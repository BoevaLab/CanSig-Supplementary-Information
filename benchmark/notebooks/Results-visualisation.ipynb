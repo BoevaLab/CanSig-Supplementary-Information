{
 "cells": [
  {
   "cell_type": "code",
   "execution_count": null,
   "id": "394615c1",
   "metadata": {
    "pycharm": {
     "name": "#%%\n"
    }
   },
   "outputs": [],
   "source": [
    "import json\n",
    "from pathlib import Path\n",
    "\n",
    "\n",
    "def load_result(pth) -> dict:\n",
    "    with open(pth) as f:\n",
    "        result = json.load(f)\n",
    "    return result"
   ]
  },
  {
   "cell_type": "code",
   "execution_count": null,
   "id": "cc7c92d8",
   "metadata": {
    "pycharm": {
     "name": "#%%\n"
    }
   },
   "outputs": [],
   "source": [
    "RESULTS_DIR = \"../benchmark-results\"\n",
    "\n",
    "all_jsons = list(Path(RESULTS_DIR).glob(\"*.json\"))\n",
    "\n",
    "entries = {\n",
    "    'silhouette': [],\n",
    "    'calinski_harabasz': [],\n",
    "    'davies_bouldin' : [],\n",
    "    \"kbet\": [],\n",
    "}\n",
    "\n",
    "\n",
    "for pth in all_jsons:\n",
    "    raw = load_result(pth)\n",
    "    \n",
    "    for score_name in entries.keys():\n",
    "        value = raw[\"scores\"][score_name]\n",
    "        if value is not None:\n",
    "            entry = {\n",
    "                \"method\": raw[\"method\"],\n",
    "                \"value\": value,\n",
    "            }\n",
    "            entries[score_name].append(entry)"
   ]
  },
  {
   "cell_type": "code",
   "execution_count": null,
   "id": "5b460240",
   "metadata": {
    "pycharm": {
     "name": "#%%\n"
    }
   },
   "outputs": [],
   "source": [
    "import seaborn as sns\n",
    "import matplotlib.pyplot as plt\n",
    "import pandas as pd\n",
    "\n",
    "sns.set_theme(style=\"ticks\")\n",
    "\n",
    "fig, axs = plt.subplots(1, 4, sharey=False, figsize=(15, 5))\n",
    "\n",
    "# ax = sns.boxplot(x=\"day\", y=\"total_bill\", data=tips, ax=axs[0])\n",
    "\n",
    "all_dfs = []\n",
    "\n",
    "for ax, (score_name, vals) in zip(axs, entries.items()):\n",
    "    ax.set_title(score_name)\n",
    "    \n",
    "    df = pd.DataFrame(vals)\n",
    "\n",
    "    sns.boxplot(x=\"method\", y=\"value\", data=df, ax=ax)\n",
    "    sns.swarmplot(x=\"method\", y=\"value\", data=df, ax=ax, color=\".25\")\n",
    "    \n",
    "    df[\"score_name\"] = score_name\n",
    "    all_dfs.append(df)\n",
    "\n",
    "final_df = pd.concat(all_dfs)\n",
    "\n",
    "fig.tight_layout()"
   ]
  },
  {
   "cell_type": "code",
   "execution_count": null,
   "id": "c5090bba",
   "metadata": {
    "pycharm": {
     "name": "#%%\n"
    }
   },
   "outputs": [],
   "source": [
    "final_df.to_csv(\"../data/generated_results.csv\", index=False)"
   ]
  },
  {
   "cell_type": "code",
   "execution_count": null,
   "id": "ac1481b5",
   "metadata": {
    "pycharm": {
     "name": "#%%\n"
    }
   },
   "outputs": [],
   "source": []
  }
 ],
 "metadata": {
  "kernelspec": {
   "display_name": "Python 3 (ipykernel)",
   "language": "python",
   "name": "python3"
  },
  "language_info": {
   "codemirror_mode": {
    "name": "ipython",
    "version": 3
   },
   "file_extension": ".py",
   "mimetype": "text/x-python",
   "name": "python",
   "nbconvert_exporter": "python",
   "pygments_lexer": "ipython3",
   "version": "3.8.13"
  }
 },
 "nbformat": 4,
 "nbformat_minor": 5
}