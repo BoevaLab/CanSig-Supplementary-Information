{
 "cells": [
  {
   "cell_type": "code",
   "execution_count": null,
   "id": "3b4435dd",
   "metadata": {},
   "outputs": [],
   "source": [
    "import numpy as np\n",
    "import pandas as pd\n",
    "import pathlib as pl \n",
    "import seaborn as sns\n",
    "\n",
    "from statsmodels.stats.multitest import multipletests"
   ]
  },
  {
   "cell_type": "code",
   "execution_count": null,
   "id": "eccebd6e",
   "metadata": {},
   "outputs": [],
   "source": [
    "basedir = pl.Path(\"/path/to/tcga/assoc/results\")"
   ]
  },
  {
   "cell_type": "code",
   "execution_count": null,
   "id": "3cf975f1",
   "metadata": {},
   "outputs": [],
   "source": [
    "cancer_tcga = [\"CRC_COAD\",\"CRC_ICM_COAD\",\"HGG_GBM\",\"Neftel_GBM\",\"ESO_ESCA\",\"BRCA_BRCA\"]"
   ]
  },
  {
   "cell_type": "code",
   "execution_count": null,
   "id": "6d449cf7",
   "metadata": {},
   "outputs": [],
   "source": [
    "full_q_corrected, full_q_uncorrected = [],[]\n",
    "full_OR_corrected, full_OR_uncorrected = [],[]\n",
    "labels_pc = []\n",
    "for cancer in cancer_tcga:\n",
    "    \n",
    "    survival_link = pd.read_csv(basedir / f\"{cancer}_survival.txt\",sep=\"\\t\")\n",
    "    \n",
    "    df = survival_link[survival_link[\"Is_corrected\"]]\n",
    "    df = df[df.feature.str.startswith(\"MetaSig\")]\n",
    "    p_values = df[\"Cox_pvalue\"].ravel()\n",
    "    corrected_q_values = multipletests(p_values, method=\"fdr_bh\")[1]\n",
    "    corrected_q_values = pd.DataFrame(corrected_q_values, index=df.feature.ravel())\n",
    "    full_q_corrected.append(corrected_q_values)\n",
    "    full_OR_corrected.append(df[[\"Cox_hazard\"]])\n",
    "\n",
    "    df = survival_link[~survival_link[\"Is_corrected\"]]\n",
    "    p_values = df[\"Cox_pvalue\"].ravel()\n",
    "    uncorrected_q_values = multipletests(p_values, method=\"fdr_bh\")[1]\n",
    "    uncorrected_q_values = pd.DataFrame(uncorrected_q_values, index=df.feature.ravel())\n",
    "    full_q_uncorrected.append(uncorrected_q_values)\n",
    "    full_OR_uncorrected.append(df[[\"Cox_hazard\"]])\n",
    "    \n",
    "    labels = [cancer]*corrected_q_values.shape[0]\n",
    "    labels_pc.append(labels)\n",
    "labels_pc = np.concatenate(labels_pc)\n",
    "\n",
    "full_OR_corrected = pd.concat(full_OR_corrected,ignore_index=True).T\n",
    "full_OR_uncorrected = pd.concat(full_OR_uncorrected,ignore_index=True).T\n",
    "\n",
    "full_q_corrected = pd.concat(full_q_corrected).T\n",
    "full_q_uncorrected = pd.concat(full_q_uncorrected).T"
   ]
  },
  {
   "cell_type": "code",
   "execution_count": null,
   "id": "418630f3",
   "metadata": {},
   "outputs": [],
   "source": [
    "survival_plot_q = pd.concat([full_q_uncorrected,full_q_corrected])\n",
    "survival_plot_q.columns = survival_plot_q.columns.str.replace(\"MetaSignature_\",\"p-val Meta-sig. \")\n",
    "survival_plot_or = pd.concat([full_OR_uncorrected,full_OR_corrected])\n",
    "survival_plot_or.columns = survival_plot_q.columns.str.replace(\"p-val \",\"\")\n",
    "survival_plot_or.index = [\"Univariable\",\"Multivariable\"]\n",
    "survival_plot_q.index = [\"Univariable\",\"Multivariable\"]"
   ]
  },
  {
   "cell_type": "code",
   "execution_count": null,
   "id": "659a5c29",
   "metadata": {},
   "outputs": [],
   "source": [
    "df2 = survival_plot_or.copy()\n",
    "df2.columns = df2.columns.str.replace(\"Meta\", \"HR Meta\")\n",
    "labels_df = pd.DataFrame(np.concatenate([labels_pc,labels_pc]).reshape(1,-1),\n",
    "                         columns=list(df2.columns)+list(survival_plot_q.columns), index=[\"Cancer\"])\n",
    "sheet1 = pd.concat([df2,survival_plot_q],axis=1)\n",
    "sheet1 = pd.concat([sheet1,labels_df])"
   ]
  },
  {
   "cell_type": "code",
   "execution_count": null,
   "id": "6b7a7a09",
   "metadata": {},
   "outputs": [],
   "source": [
    "sns_palette = sns.color_palette()\n",
    "color_mapping = {cancer: sns_palette[i] for i,cancer in enumerate(np.unique(labels_pc))}\n",
    "color_labels = [color_mapping[cancer] for cancer in labels_pc]"
   ]
  },
  {
   "cell_type": "code",
   "execution_count": null,
   "id": "ad4d1c61",
   "metadata": {},
   "outputs": [],
   "source": [
    "g = sns.clustermap(survival_plot_or.fillna(0), cmap=\"vlag\",center=1, mask=(survival_plot_q>0.1).values,\n",
    "               col_cluster=False,row_cluster=False,col_colors=color_labels, \n",
    "                   figsize=(12,2), linewidth=1, colors_ratio=0.15, annot=survival_plot_or.round(1))\n",
    "g.ax_heatmap.set_ylabel(\"\")\n",
    "g.ax_heatmap.set_yticklabels(g.ax_heatmap.get_yticklabels(),rotation=\"0\")\n",
    "g.fig.savefig(\"path/to/fig/survival_link_tcga.svg\",bbox_inches=\"tight\")"
   ]
  },
  {
   "cell_type": "markdown",
   "id": "a525659f",
   "metadata": {},
   "source": [
    "# Subtype link"
   ]
  },
  {
   "cell_type": "code",
   "execution_count": null,
   "id": "e9bf17bc",
   "metadata": {},
   "outputs": [],
   "source": [
    "subtype_link = {}\n",
    "for cancer in cancer_tcga:\n",
    "    \n",
    "    sbt = pd.read_csv(basedir / f\"{cancer}_subtype_kruskal.txt\",sep=\"\\t\")\n",
    "    \n",
    "    if cancer==\"BRCA_BRCA\":\n",
    "        sbt = sbt[sbt.feature==\"Subtype_mRNA\"]\n",
    "    elif cancer in [\"HGG_GBM\",\"Neftel_GBM\"]:\n",
    "        sbt = sbt[sbt.feature.isin([\"Subtype_mRNA\",\"Subtype_DNAmeth\",\"Subtype_Selected\"])]\n",
    "        sbt.feature = sbt.feature.replace({\"Subtype_Selected\": \"Subtype_other\"})\n",
    "    elif cancer in [\"CRC_COAD\",\"CRC_ICM_COAD\",\"ESO_ESCA\"]:\n",
    "        sbt = sbt[sbt.feature.isin([\"Subtype_other\"])]\n",
    "    sbt = sbt.dropna()\n",
    "    \n",
    "    sbt = sbt.groupby([\"signature\",\"feature\"]).mean()\n",
    "    \n",
    "    qvalues = multipletests(sbt.pvalue.ravel(),method=\"fdr_bh\")[1]\n",
    "    sbt[\"qvalue\"] = qvalues\n",
    "    \n",
    "    subtype_link[cancer] = sbt.reset_index()"
   ]
  },
  {
   "cell_type": "code",
   "execution_count": null,
   "id": "218ff103",
   "metadata": {},
   "outputs": [],
   "source": [
    "all_assoc = []\n",
    "labels_pc = []\n",
    "for cancer in cancer_tcga:\n",
    "    cancer_assoc = []\n",
    "    for feature in subtype_link[cancer].feature.unique():\n",
    "        assoc_pms = []\n",
    "        for ms in subtype_link[cancer].signature.unique():\n",
    "            msdf = subtype_link[cancer][(subtype_link[cancer].signature==ms) & (subtype_link[cancer].feature==feature)]\n",
    "            if (msdf.qvalue<0.1).sum()>0:\n",
    "                selected = -np.log(msdf.qvalue.min())\n",
    "            else:\n",
    "                selected = np.nan\n",
    "            assoc_pms.append(pd.DataFrame([selected],index=[ms],columns=[feature]))\n",
    "    \n",
    "        assoc_pms = pd.concat(assoc_pms).T\n",
    "        cancer_assoc.append(assoc_pms)\n",
    "        \n",
    "    cancer_assoc = pd.concat(cancer_assoc)\n",
    "    \n",
    "    all_assoc.append(cancer_assoc)\n",
    "    labels = [cancer]*cancer_assoc.shape[1]\n",
    "    labels_pc.append(labels)\n",
    "labels_pc = np.concatenate(labels_pc)\n",
    "all_assoc = pd.concat(all_assoc,axis=1)\n",
    "    "
   ]
  },
  {
   "cell_type": "code",
   "execution_count": null,
   "id": "ca081fbf",
   "metadata": {},
   "outputs": [],
   "source": [
    "column_order = [\"Subtype_mRNA\",\"Subtype_DNAmeth\",\"Subtype_other\"]\n",
    "all_assoc = all_assoc.loc[column_order]\n",
    "all_assoc.columns = all_assoc.columns.str.replace(\"MetaSignature_\",\"Meta-sig. \")\n",
    "all_assoc.index = all_assoc.index.str.replace(\"_\",\" \")\n",
    "\n",
    "sheet2 = all_assoc.copy()\n",
    "labels_df = pd.DataFrame(labels_pc.reshape(1,-1),\n",
    "                         columns=list(sheet2.columns), index=[\"Cancer\"])\n",
    "sheet2 = pd.concat([sheet2,labels_df])\n",
    "\n",
    "sns_palette = sns.color_palette()\n",
    "color_mapping = {cancer: sns_palette[i] for i,cancer in enumerate(np.unique(labels_pc))}\n",
    "color_labels = [color_mapping[cancer] for cancer in labels_pc]"
   ]
  },
  {
   "cell_type": "code",
   "execution_count": null,
   "id": "5d555fcd",
   "metadata": {},
   "outputs": [],
   "source": [
    "sign_q = 2.3\n",
    "g = sns.clustermap(all_assoc.fillna(0), cmap=\"vlag\",center=sign_q, vmin=0, vmax=7,mask=all_assoc.fillna(0)<sign_q,\n",
    "               col_cluster=False,row_cluster=False,col_colors=color_labels, \n",
    "                   figsize=(12,2), linewidth=1, colors_ratio=0.15, cbar_kws={\"label\": \"-log(p)\"})\n",
    "g.ax_heatmap.set_ylabel(\"\")\n",
    "g.fig.savefig(\"path/to/fig/subtype_link_tcga.svg\",bbox_inches=\"tight\")"
   ]
  },
  {
   "cell_type": "markdown",
   "id": "510e260c",
   "metadata": {},
   "source": [
    "# Clinical link"
   ]
  },
  {
   "cell_type": "code",
   "execution_count": null,
   "id": "8de63828",
   "metadata": {},
   "outputs": [],
   "source": [
    "clinical_link = {}\n",
    "for cancer in cancer_tcga:\n",
    "    \n",
    "    clindf_kruskal = pd.read_csv(basedir / f\"{cancer}_clinical_kruskal.txt\",sep=\"\\t\")\n",
    "    \n",
    "    clindf_kruskal = clindf_kruskal[clindf_kruskal.feature.isin([\"gender\",'ajcc_pathologic_tumor_stage'])]\n",
    "    clindf_kruskal = clindf_kruskal.groupby([\"signature\",\"feature\"]).mean().reset_index()\n",
    "    \n",
    "    clindf_cor = pd.read_csv(basedir / f\"{cancer}_clinical_cor.txt\",sep=\"\\t\")\n",
    "    clindf_cor = clindf_cor[clindf_cor.col_names.isin([\"age_at_initial_pathologic_diagnosis\"])]\n",
    "    clindf_cor.columns = clindf_cor.columns.str.replace(\"_cor\",\"\")\n",
    "    clindf_cor = clindf_cor.rename(columns={\"Rho_coef\": \"Ratio/Rho\", \"col_names\": \"feature\"})\n",
    "    clindf_cor = clindf_cor.replace({\"age_at_initial_pathologic_diagnosis\": \"Age\"})\n",
    "    \n",
    "    clindf = pd.concat([clindf_kruskal,clindf_cor],ignore_index=True)\n",
    "    \n",
    "    qvalues = multipletests(clindf.pvalue.ravel(),method=\"fdr_bh\")[1]\n",
    "    clindf[\"qvalue\"] = qvalues\n",
    "    \n",
    "    clinical_link[cancer] = clindf"
   ]
  },
  {
   "cell_type": "code",
   "execution_count": null,
   "id": "f7c966bc",
   "metadata": {},
   "outputs": [],
   "source": [
    "clin_assoc = []\n",
    "labels_pc = []\n",
    "for cancer in cancer_tcga:\n",
    "    cancer_assoc = []\n",
    "    for feature in clinical_link[cancer].feature.unique():\n",
    "        assoc_pms = []\n",
    "        for ms in clinical_link[cancer].signature.unique():\n",
    "            msdf = clinical_link[cancer][(clinical_link[cancer].signature==ms) & (clinical_link[cancer].feature==feature)]\n",
    "            if (msdf.qvalue<0.1).sum()>0:\n",
    "                selected = -np.log(msdf.qvalue.min())\n",
    "            else:\n",
    "                selected = np.nan\n",
    "            assoc_pms.append(pd.DataFrame([selected],index=[ms],columns=[feature]))\n",
    "    \n",
    "        assoc_pms = pd.concat(assoc_pms).T\n",
    "        cancer_assoc.append(assoc_pms)\n",
    "        \n",
    "    cancer_assoc = pd.concat(cancer_assoc)\n",
    "    \n",
    "    clin_assoc.append(cancer_assoc)\n",
    "    labels = [cancer]*cancer_assoc.shape[1]\n",
    "    labels_pc.append(labels)\n",
    "labels_pc = np.concatenate(labels_pc)\n",
    "clin_assoc = pd.concat(clin_assoc,axis=1)\n",
    "    "
   ]
  },
  {
   "cell_type": "code",
   "execution_count": null,
   "id": "1a31f66a",
   "metadata": {},
   "outputs": [],
   "source": [
    "clin_assoc.columns = clin_assoc.columns.str.replace(\"MetaSignature_\",\"Meta-sig. \")\n",
    "clin_assoc = clin_assoc.rename(index={\"ajcc_pathologic_tumor_stage\": \"Stage\", \"gender\": \"Gender\"})\n",
    "\n",
    "sheet3 = clin_assoc.copy()\n",
    "labels_df = pd.DataFrame(labels_pc.reshape(1,-1),\n",
    "                         columns=list(sheet3.columns), index=[\"Cancer\"])\n",
    "sheet3 = pd.concat([sheet3,labels_df])\n",
    "\n",
    "sns_palette = sns.color_palette()\n",
    "color_mapping = {cancer: sns_palette[i] for i,cancer in enumerate(np.unique(labels_pc))}\n",
    "color_labels = [color_mapping[cancer] for cancer in labels_pc]"
   ]
  },
  {
   "cell_type": "code",
   "execution_count": null,
   "id": "ab2eda3c",
   "metadata": {},
   "outputs": [],
   "source": [
    "sign_q = 2.3\n",
    "g = sns.clustermap(clin_assoc.fillna(0), cmap=\"vlag\",center=sign_q, vmin=0, vmax=7,mask=clin_assoc.fillna(0)<sign_q,\n",
    "               col_cluster=False,row_cluster=False,col_colors=color_labels, \n",
    "                   figsize=(12,2), linewidth=1, colors_ratio=0.15, cbar_kws={\"label\": \"-log(p)\"})\n",
    "g.ax_heatmap.set_ylabel(\"\")\n",
    "g.fig.savefig(\"path/to/fig/clinical_link_tcga.svg\",bbox_inches=\"tight\")"
   ]
  },
  {
   "cell_type": "markdown",
   "id": "2e86e2be",
   "metadata": {},
   "source": [
    "### Write to excel"
   ]
  },
  {
   "cell_type": "markdown",
   "id": "4b17500b",
   "metadata": {},
   "source": [
    "Just to make my life easier, the cnv association is added here, but it's in fact computed separately"
   ]
  },
  {
   "cell_type": "code",
   "execution_count": null,
   "id": "b05ab64b",
   "metadata": {},
   "outputs": [],
   "source": [
    "with pd.ExcelWriter('path/to/save/Suppl_Tables_2_5.xlsx') as writer:  \n",
    "    sheet1.to_excel(writer, sheet_name='Suppl. Table 2' , na_rep=\"np.nan\", startcol=1, startrow=2)\n",
    "    worksheet = writer.sheets['Suppl. Table 2']\n",
    "    worksheet.write_string(0, 0, 'Suppl. Table 2, Associations between CanSig meta-signatures and survival in TCGA. Univariate analysis corresponds to a Cox model with the score as parameter. Multivariate analysis corresponds to a Cox model with the score, the age, the stage and the tumor purity as input.')\n",
    "    sheet2.to_excel(writer, sheet_name='Suppl. Table 3', na_rep=\"np.nan\", startcol=1, startrow=2)\n",
    "    worksheet = writer.sheets['Suppl. Table 3']\n",
    "    worksheet.write_string(0, 0, 'Suppl. Table 3, Associations between CanSig meta-signatures and known molecular subtypes in TCGA. The -log(p) significance of the FDR corrected p value of Kruskal Wallis test across groups is reported.')\n",
    "    sheet3.to_excel(writer, sheet_name='Suppl. Table 4', na_rep=\"np.nan\", startcol=1, startrow=2)\n",
    "    worksheet = writer.sheets['Suppl. Table 4']\n",
    "    print(worksheet)\n",
    "    worksheet.write_string(0, 0, 'Suppl. Table 4, Associations between CanSig meta-signatures and age, stage and gender in TCGA. For age, the Pearson correlation coefficient is reported, as well as the FDR corrected p value. For age and gender, the Kruskal Wallis FDR-corrected p value is reported. The mean signature score in each group is reported')"
   ]
  },
  {
   "cell_type": "code",
   "execution_count": null,
   "id": "2d6ac5df",
   "metadata": {},
   "outputs": [],
   "source": [
    "cnv_assoc = pd.read_csv(\"path/to/diff/cnv/metasig5/escc/cansig\",index_col=0)\n",
    "cnv_assoc = cnv_assoc[cnv_assoc.metasig5_qvalues<0.05].loc[:,cnv_assoc.columns.str.startswith(\"metasig5\")]\n",
    "cnv_assoc = cnv_assoc[(cnv_assoc.metasig5_perc_gains - cnv_assoc.metasig5_rest_gains)>0.25]"
   ]
  },
  {
   "cell_type": "code",
   "execution_count": null,
   "id": "7decef6b",
   "metadata": {},
   "outputs": [],
   "source": [
    "with pd.ExcelWriter('path/to/save/Suppl_Tables_2_5.xlsx',engine=\"openpyxl\", mode=\"a\") as writer:  \n",
    "    cnv_assoc.to_excel(writer, sheet_name='Suppl. Table 5' , na_rep=\"np.nan\", startcol=1, startrow=2)\n",
    "    worksheet = writer.sheets['Suppl. Table 5']\n",
    "    worksheet.cell(row=1, column=1).value = 'Suppl. Table 5, Gains significantly associated with meta-signature 5 in ESCC.'"
   ]
  },
  {
   "cell_type": "code",
   "execution_count": null,
   "id": "39de48d5",
   "metadata": {},
   "outputs": [],
   "source": []
  },
  {
   "cell_type": "code",
   "execution_count": null,
   "id": "6c2b010d",
   "metadata": {},
   "outputs": [],
   "source": []
  },
  {
   "cell_type": "code",
   "execution_count": null,
   "id": "51eed1a3",
   "metadata": {},
   "outputs": [],
   "source": []
  }
 ],
 "metadata": {
  "kernelspec": {
   "display_name": "Python 3",
   "language": "python",
   "name": "python3"
  },
  "language_info": {
   "codemirror_mode": {
    "name": "ipython",
    "version": 3
   },
   "file_extension": ".py",
   "mimetype": "text/x-python",
   "name": "python",
   "nbconvert_exporter": "python",
   "pygments_lexer": "ipython3",
   "version": "3.8.8"
  }
 },
 "nbformat": 4,
 "nbformat_minor": 5
}
