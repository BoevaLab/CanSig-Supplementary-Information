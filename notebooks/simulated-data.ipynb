{
 "cells": [
  {
   "cell_type": "code",
   "execution_count": null,
   "id": "846f522c",
   "metadata": {},
   "outputs": [],
   "source": [
    "import os\n",
    "\n",
    "import anndata as ad\n",
    "import matplotlib.pyplot as plt\n",
    "import numpy as np\n",
    "import pandas as pd\n",
    "import pathlib as pl\n",
    "import scanpy as sc\n",
    "import seaborn as sns\n",
    "\n",
    "from matplotlib.colors import ListedColormap"
   ]
  },
  {
   "cell_type": "markdown",
   "id": "e842b2e3",
   "metadata": {},
   "source": [
    "# Preliminary: save only malignant"
   ]
  },
  {
   "cell_type": "code",
   "execution_count": null,
   "id": "51759a45",
   "metadata": {},
   "outputs": [],
   "source": [
    "resdir = pl.Path(\"/path/to/datasets/\")\n",
    "savedir = pl.Path(\"/path/to/where/to/save\")\n",
    "\n",
    "for f in resdir.iterdir():\n",
    "    ds_name = f.stem\n",
    "    adata = sc.read_h5ad(resdir / f\"{ds_name}.h5ad\")\n",
    "    os.makedirs(savedir / f\"{ds_name}\",exist_ok=True)\n",
    "    adata[adata.obs.malignant_key==\"malignant\"].copy().write(savedir / f\"{ds_name}\" / \"malignant.h5ad\")"
   ]
  },
  {
   "cell_type": "markdown",
   "id": "473bfcb1",
   "metadata": {},
   "source": [
    "# Benchmark"
   ]
  },
  {
   "cell_type": "markdown",
   "id": "2fc2ca4e",
   "metadata": {},
   "source": [
    "### 1. Get the annotations for the true programs"
   ]
  },
  {
   "cell_type": "code",
   "execution_count": null,
   "id": "2b16bcfd",
   "metadata": {
    "scrolled": true
   },
   "outputs": [],
   "source": [
    "datasetdir = pl.Path(\"/path/to/malignant/datasets\")\n",
    "\n",
    "annotdir = pl.Path(\"path/to/where/to/save/annotations\")\n",
    "\n",
    "def get_prog_sig(adata: ad.AnnData, program: str = \"program\"):\n",
    "    adata.layers[\"counts\"] = adata.X.copy()\n",
    "    sc.pp.normalize_total(adata, target_sum=10000)\n",
    "    sc.pp.log1p(adata)\n",
    "    sc.tl.rank_genes_groups(adata, groupby=program)\n",
    "    diff_gex = {}\n",
    "    for prog in adata.obs[program].unique():\n",
    "        diff_gex[prog] = sc.get.rank_genes_groups_df(adata, group=prog)\n",
    "    adata.X = adata.layers[\"counts\"].copy()\n",
    "    del adata.uns[\"log1p\"]\n",
    "    return diff_gex\n",
    "\n",
    "for d in datasetdir.iterdir():\n",
    "    dataset_name = d.stem\n",
    "    print(dataset_name)\n",
    "    os.makedirs(annotdir / dataset_name, exist_ok=True)\n",
    "    adata = sc.read_h5ad(d / \"malignant.h5ad\")\n",
    "    diff_gex = get_prog_sig(adata=adata, program=\"program\")\n",
    "    for prog in diff_gex:\n",
    "        diff_gex[prog].to_csv(annotdir / dataset_name / f\"{prog}.csv\")"
   ]
  },
  {
   "cell_type": "markdown",
   "id": "a4cf0665",
   "metadata": {},
   "source": [
    "### 2. Get the correlation between the found and true signatures"
   ]
  },
  {
   "cell_type": "code",
   "execution_count": null,
   "id": "37c6a2ab",
   "metadata": {},
   "outputs": [],
   "source": [
    "def score_sig(adata, signature, score_name):    \n",
    "    adata.layers[\"counts\"] = adata.X.copy()\n",
    "    sc.pp.normalize_total(adata, target_sum=10000)\n",
    "    sc.pp.log1p(adata)\n",
    "    sc.tl.score_genes(adata, gene_list=signature, score_name=score_name)\n",
    "    adata.X = adata.layers[\"counts\"]\n",
    "    del adata.uns[\"log1p\"]\n",
    "    \n",
    "    return adata"
   ]
  },
  {
   "cell_type": "code",
   "execution_count": null,
   "id": "3516ba5b",
   "metadata": {
    "scrolled": true
   },
   "outputs": [],
   "source": [
    "resdir = pl.Path(\"path/to/cansig/results\")\n",
    "datadir = pl.Path(\"path/to/malignant/datasets\")\n",
    "annotdir = pl.Path(\"/path/to/annotations\")\n",
    "all_res = []\n",
    "for f in resdir.iterdir():\n",
    "        dataset_name = f.stem\n",
    "        print(dataset_name)\n",
    "        msdir = f / \"metasignatures\" / \"signatures\"\n",
    "        dsannot = annotdir / f.stem \n",
    "        adata = sc.read_h5ad(datadir / f.stem / \"malignant.h5ad\")\n",
    "        \n",
    "        metasignatures = {}\n",
    "        for ms in msdir.iterdir():\n",
    "            name = ms.stem\n",
    "            metasignatures[name] = pd.read_csv(ms, index_col=0)\n",
    "        \n",
    "        meta_list = list(metasignatures.keys())\n",
    "        meta_list = list(np.setdiff1d(meta_list, [\"outlier\"]))\n",
    "        \n",
    "        knownsigs = {}\n",
    "        for ann in dsannot.iterdir():\n",
    "            name = ann.stem\n",
    "            knownsigs[name] = pd.read_csv(ann).names\n",
    "        \n",
    "        for sig in meta_list:\n",
    "            adata = score_sig(adata, metasignatures[sig].values.ravel()[:50], score_name=sig)\n",
    "                \n",
    "        for sig in knownsigs:\n",
    "            adata = score_sig(adata, knownsigs[sig].values.ravel()[:50], score_name=sig)\n",
    "        \n",
    "        df_corr = adata.obs[meta_list+list(knownsigs.keys())].corr()\n",
    "        df_corr = df_corr.loc[meta_list,list(knownsigs.keys())]\n",
    "        \n",
    "        n_metasigs = pd.Series([len(meta_list)])\n",
    "        corr_sigs = (df_corr>0.65).sum(axis=1).loc[meta_list]\n",
    "        n_uncorr_sigs = pd.Series([(corr_sigs==0).sum()])\n",
    "        found = df_corr.loc[(df_corr>0.65).sum(axis=1)>0].idxmax(axis=1).unique()\n",
    "        found_sigs = pd.Series(np.zeros(len(knownsigs)),index=list(knownsigs.keys()))\n",
    "        found_sigs.loc[found] = 1\n",
    "        max_corr = df_corr.max().loc[list(knownsigs.keys())]\n",
    "\n",
    "        res = pd.concat([n_metasigs, n_uncorr_sigs, corr_sigs, found_sigs, max_corr])\n",
    "        res.index = [\"n_metasigs\",\"n_uncorr_sigs\"]+meta_list+list(knownsigs.keys())+list(np.char.add(list(knownsigs.keys()),'_corr'))\n",
    "        res.name = dataset_name\n",
    "        all_res.append(res)"
   ]
  },
  {
   "cell_type": "code",
   "execution_count": null,
   "id": "5a4ebeb1",
   "metadata": {},
   "outputs": [],
   "source": [
    "datasets = [\"be_1\",\"be_2\",\"highdiff_1\",\"highdiff_2\",\"lowdiff_1\",\"lowdiff_2\",\"morecells_1\",\"morecells_2\",\"highcnv_1\",\"highcnv_2\",\"smalldataset_1\",\"smalldataset_2\"]"
   ]
  },
  {
   "cell_type": "code",
   "execution_count": null,
   "id": "97b9d665",
   "metadata": {},
   "outputs": [],
   "source": [
    "full_res_df = pd.concat(all_res,axis=1).loc[:,datasets]"
   ]
  },
  {
   "cell_type": "code",
   "execution_count": null,
   "id": "9c47739b",
   "metadata": {},
   "outputs": [],
   "source": [
    "fig, ax = plt.subplots(1,1,figsize=(3,1))\n",
    "sns.heatmap(full_res_df.loc[[\"program1\",\"program2\",\"program3\"]], \n",
    "            cmap=ListedColormap(['blue', 'red']), linewidths=2,\n",
    "            ax=ax,cbar=False)\n",
    "ax.set_yticklabels([\"State 1\",\"State 2\",\"State 3\"],rotation=\"0\",verticalalignment=\"center\")\n",
    "ax.set_xticklabels(ax.get_xticklabels(),rotation=\"45\",horizontalalignment=\"right\")"
   ]
  },
  {
   "cell_type": "code",
   "execution_count": null,
   "id": "5bddb20b",
   "metadata": {},
   "outputs": [],
   "source": [
    "fig.savefig(\"figures/simulated_found_program_indicator.svg\",bbox_inches=\"tight\")"
   ]
  },
  {
   "cell_type": "code",
   "execution_count": null,
   "id": "f7af6746",
   "metadata": {},
   "outputs": [],
   "source": [
    "fig, ax = plt.subplots(1,1,figsize=(3,0.3))\n",
    "sns.heatmap(full_res_df.loc[[\"n_uncorr_sigs\"]], \n",
    "            cmap=ListedColormap(['red', 'blue']), linewidths=2,\n",
    "            ax=ax,cbar=False, annot=True)\n",
    "ax.set_yticklabels([\"N uncorr sig.\"],rotation=\"0\",verticalalignment=\"center\")\n",
    "ax.set_xticklabels(ax.get_xticklabels(),rotation=\"45\",horizontalalignment=\"right\")"
   ]
  },
  {
   "cell_type": "code",
   "execution_count": null,
   "id": "11c5ee36",
   "metadata": {},
   "outputs": [],
   "source": [
    "fig.savefig(\"figures/simulated_uncorr_program_indicator.svg\",bbox_inches=\"tight\")"
   ]
  },
  {
   "cell_type": "code",
   "execution_count": null,
   "id": "0db528b4",
   "metadata": {},
   "outputs": [],
   "source": []
  }
 ],
 "metadata": {
  "kernelspec": {
   "display_name": "Python 3",
   "language": "python",
   "name": "python3"
  },
  "language_info": {
   "codemirror_mode": {
    "name": "ipython",
    "version": 3
   },
   "file_extension": ".py",
   "mimetype": "text/x-python",
   "name": "python",
   "nbconvert_exporter": "python",
   "pygments_lexer": "ipython3",
   "version": "3.8.8"
  }
 },
 "nbformat": 4,
 "nbformat_minor": 5
}
