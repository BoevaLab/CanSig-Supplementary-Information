{
 "cells": [
  {
   "cell_type": "code",
   "execution_count": null,
   "id": "967c9522",
   "metadata": {},
   "outputs": [],
   "source": [
    "from typing import Tuple, Dict, List\n",
    "\n",
    "import anndata\n",
    "import infercnvpy\n",
    "import pathlib\n",
    "\n",
    "\n",
    "import scanpy as sc\n",
    "import seaborn as sns\n",
    "import matplotlib.pyplot as plt\n",
    "import numpy as np\n",
    "import pandas as pd"
   ]
  },
  {
   "cell_type": "code",
   "execution_count": null,
   "id": "6f12540e",
   "metadata": {},
   "outputs": [],
   "source": [
    "def get_high_cnv_metasig(diffCNV: pd.DataFrame, metasig: str, qval: float=0.05, threshold_perc: float=0.2) -> Tuple[pd.Series, pd.Series]:\n",
    "    \n",
    "    ms_df = diffCNV.loc[:,diffCNV.columns.str.startswith(metasig)]\n",
    "    ms_df = ms_df[ms_df[f\"{metasig}_qvalues\"]<qval]\n",
    "    \n",
    "    ms_df_gains = ms_df[ms_df[f\"{metasig}_patients_gain\"]>1]\n",
    "    ms_df_losses = ms_df[ms_df[f\"{metasig}_patients_loss\"]>1]\n",
    "    \n",
    "    sorted_gains = (ms_df_gains[f\"{metasig}_perc_gains\"] - ms_df_gains[f\"{metasig}_rest_gains\"]).sort_values(ascending=False)\n",
    "    sorted_losses = (ms_df_losses[f\"{metasig}_perc_losses\"] - ms_df_losses[f\"{metasig}_rest_losses\"]).sort_values(ascending=False)\n",
    "    \n",
    "    high_gains = sorted_gains[sorted_gains>=threshold_perc]\n",
    "    high_losses = sorted_losses[sorted_losses>=threshold_perc]\n",
    "    \n",
    "    return high_gains, high_losses\n",
    "\n",
    "def get_high_cnv(diffCNV: pd.DataFrame, metasigs: np.ndarray) -> Dict[str, List[pd.Series]]:\n",
    "    high_cnvs = {}\n",
    "    for metasig in metasigs:\n",
    "        high_gains, high_losses = get_high_cnv_metasig(diffCNV, metasig, threshold_perc=0.25)\n",
    "        high_cnvs[metasig] = [high_gains, high_losses]\n",
    "    return high_cnvs\n",
    "\n",
    "\n",
    "def get_gained_genes(most_diff_region: pd.DataFrame, adata: anndata.AnnData) -> List[str]:\n",
    "    gained_genes = []\n",
    "    idx = most_diff_region.index.str.split(\":\")\n",
    "    for i in range(most_diff_region.shape[0]):\n",
    "        reg = idx[i]\n",
    "        chromosome = reg[0]\n",
    "        start = int(reg[1].split(\"-\")[0])\n",
    "        end = int(reg[1].split(\"-\")[1])\n",
    "        selgenes = adata.var[adata.var.chromosome == chromosome]\n",
    "        selgenes = selgenes[selgenes.start>=start]\n",
    "        selgenes = list(selgenes[selgenes.end<=end].index)\n",
    "        gained_genes+=selgenes\n",
    "    return gained_genes"
   ]
  },
  {
   "cell_type": "code",
   "execution_count": null,
   "id": "6cc784b7",
   "metadata": {},
   "outputs": [],
   "source": [
    "def get_dotplot(adata, marker_genes, figsize=(10,5)):\n",
    "    adata.layers[\"counts\"] = adata.X.copy()\n",
    "    sc.pp.normalize_total(adata, target_sum=10000)\n",
    "    sc.pp.log1p(adata)\n",
    "    sc.pl.dotplot(adata, marker_genes, swap_axes=True, groupby=\"metamembership\", save=\"dotplotmarker.svg\", figsize=figsize)\n",
    "    adata.X = adata.layers[\"counts\"].copy()\n",
    "    return adata"
   ]
  },
  {
   "cell_type": "code",
   "execution_count": null,
   "id": "173e6262",
   "metadata": {},
   "outputs": [],
   "source": []
  },
  {
   "cell_type": "code",
   "execution_count": null,
   "id": "a4e38def",
   "metadata": {},
   "outputs": [],
   "source": [
    "basedir = pathlib.Path(\"/path/to/esophag/metasignatures/from/cansig\")"
   ]
  },
  {
   "cell_type": "code",
   "execution_count": null,
   "id": "5ca6ed77",
   "metadata": {},
   "outputs": [],
   "source": [
    "diffCNV = pd.read_csv(basedir / \"diff-cnvs.csv\",index_col=0)"
   ]
  },
  {
   "cell_type": "code",
   "execution_count": null,
   "id": "e2c80bdf",
   "metadata": {},
   "outputs": [],
   "source": [
    "adata = sc.read_h5ad(\"/path/to/esophag/preprocessed/data\")"
   ]
  },
  {
   "cell_type": "code",
   "execution_count": null,
   "id": "591b2cd4",
   "metadata": {},
   "outputs": [],
   "source": [
    "metamembership = pd.read_csv(basedir / \"cell-metamembership.csv\",index_col=0).replace({\"-2.0\": \"undecided\"})"
   ]
  },
  {
   "cell_type": "code",
   "execution_count": null,
   "id": "4aacecab",
   "metadata": {},
   "outputs": [],
   "source": [
    "adata.obs = pd.concat([adata.obs,metamembership],axis=1)"
   ]
  },
  {
   "cell_type": "code",
   "execution_count": null,
   "id": "eb849bae",
   "metadata": {},
   "outputs": [],
   "source": [
    "metasigs = np.unique(diffCNV.columns.str.split(\"_\").str[0])\n",
    "metasigs = np.setdiff1d(metasigs, [\"outlier\"])"
   ]
  },
  {
   "cell_type": "code",
   "execution_count": null,
   "id": "9bdc58cb",
   "metadata": {},
   "outputs": [],
   "source": [
    "high_cnvs = get_high_cnv(diffCNV, metasigs)"
   ]
  },
  {
   "cell_type": "code",
   "execution_count": null,
   "id": "ec665cd3",
   "metadata": {},
   "outputs": [],
   "source": [
    "high_cnvs['metasig5'][0].to_csv(\"sign_gains_metasig5_escc.csv\")"
   ]
  },
  {
   "cell_type": "code",
   "execution_count": null,
   "id": "158ce9c9",
   "metadata": {},
   "outputs": [],
   "source": [
    "df = pd.Series(high_cnvs['metasig5'][0].index.str.split(\":\").str[0]).value_counts()\n",
    "sign_gained_chromosomes = df.index\n",
    "df"
   ]
  },
  {
   "cell_type": "code",
   "execution_count": null,
   "id": "781ad0ce",
   "metadata": {},
   "outputs": [],
   "source": [
    "msdiffCNV = diffCNV.loc[high_cnvs['metasig5'][0].index,diffCNV.columns.str.startswith(\"metasig5\")]"
   ]
  },
  {
   "cell_type": "code",
   "execution_count": null,
   "id": "f5fa9397",
   "metadata": {},
   "outputs": [],
   "source": [
    "pc_gain_description = []\n",
    "for chrom in sign_gained_chromosomes:\n",
    "    df1 = high_cnvs['metasig5'][0][high_cnvs['metasig5'][0].index.str.startswith(chrom)].describe().loc[[\"mean\",\"25%\",\"75%\"]]\n",
    "    df1.index = [\"Difference mean\",\"Difference 25%\",\"Difference 75%\"]\n",
    "    df2 = msdiffCNV.loc[msdiffCNV.index.str.startswith(chrom)][\"metasig5_patients_gain\"].describe().loc[[\"mean\",\"min\",\"max\"]]\n",
    "    df2.index = [\"Patient mean\",\"Patient min\",\"Patient max\"]\n",
    "    df = pd.concat([df1,df2])\n",
    "    df.name = chrom\n",
    "    pc_gain_description.append(df)\n",
    "pc_gain_description = pd.concat(pc_gain_description,axis=1).round(2).T\n",
    "pc_gain_description.loc[sorted(sign_gained_chromosomes, key=lambda x: int(x[3:]))]\n",
    "pc_gain_description = pd.concat([pc_gain_description,pc_gain_description.describe().loc[[\"mean\"]]])\n",
    "pc_gain_description"
   ]
  },
  {
   "cell_type": "code",
   "execution_count": null,
   "id": "a74b6b63",
   "metadata": {},
   "outputs": [],
   "source": [
    "cnv_genes = {}\n",
    "for ms in high_cnvs:\n",
    "    cnv_genes[ms] = [[],[]]\n",
    "    gains = high_cnvs[ms][0]\n",
    "    if gains.shape[0] != 0:\n",
    "        cnv_genes[ms][0].append(get_gained_genes(gains,adata))\n",
    "    losses = high_cnvs[ms][1]\n",
    "    if losses.shape[0] != 0:\n",
    "        cnv_genes[ms][1].append(get_gained_genes(losses,adata))"
   ]
  },
  {
   "cell_type": "code",
   "execution_count": null,
   "id": "66bc20a5",
   "metadata": {},
   "outputs": [],
   "source": [
    "cnv_genes"
   ]
  },
  {
   "cell_type": "code",
   "execution_count": null,
   "id": "cd40218c",
   "metadata": {},
   "outputs": [],
   "source": [
    "infercnvpy.pl.chromosome_heatmap_summary(adata, groupby=\"metamembership\", save=\"summary_heatmap_escc_usecase.svg\")"
   ]
  },
  {
   "cell_type": "code",
   "execution_count": null,
   "id": "18e94b15",
   "metadata": {},
   "outputs": [],
   "source": [
    "metasignatures = {}\n",
    "sigdir = basedir / \"signatures/\"\n",
    "for f in sigdir.iterdir():\n",
    "    metasignatures[f.stem] = pd.read_csv(f,index_col=0).values.ravel()"
   ]
  },
  {
   "cell_type": "code",
   "execution_count": null,
   "id": "c79587fd",
   "metadata": {},
   "outputs": [],
   "source": [
    "len(cnv_genes[\"metasig5\"][0][0])"
   ]
  },
  {
   "cell_type": "code",
   "execution_count": null,
   "id": "f4c5de24",
   "metadata": {},
   "outputs": [],
   "source": [
    "upreg_genes = np.intersect1d(metasignatures['metasig5'][:100],cnv_genes[\"metasig5\"][0][0])\n",
    "AKCMPIG, len(upreg_genes)"
   ]
  },
  {
   "cell_type": "code",
   "execution_count": null,
   "id": "0dceeb35",
   "metadata": {},
   "outputs": [],
   "source": [
    "gsea_df = pd.read_csv(basedir / 'gsea-dataframe.csv', index_col=0).set_index(\"Term\")"
   ]
  },
  {
   "cell_type": "code",
   "execution_count": null,
   "id": "f9b43c9c",
   "metadata": {},
   "outputs": [],
   "source": [
    "ms_gsea = gsea_df[gsea_df[\"cluster\"]==\"metasig5\"]\n",
    "ms_gsea = ms_gsea[ms_gsea[\"FDR q-val\"]<0.05].dropna()"
   ]
  },
  {
   "cell_type": "code",
   "execution_count": null,
   "id": "06a6448c",
   "metadata": {},
   "outputs": [],
   "source": [
    "ms_gsea"
   ]
  },
  {
   "cell_type": "code",
   "execution_count": null,
   "id": "464b7f7e",
   "metadata": {},
   "outputs": [],
   "source": [
    "wnt_genes = ms_gsea.loc[\"HALLMARK_WNT_BETA_CATENIN_SIGNALING\"].Lead_genes.split(\";\")"
   ]
  },
  {
   "cell_type": "code",
   "execution_count": null,
   "id": "2d5e04ff",
   "metadata": {},
   "outputs": [],
   "source": [
    "np.intersect1d(upreg_genes,wnt_genes)"
   ]
  },
  {
   "cell_type": "code",
   "execution_count": null,
   "id": "253b9209",
   "metadata": {},
   "outputs": [],
   "source": [
    "marker_genes = metasignatures[\"metasig5\"][:20]"
   ]
  },
  {
   "cell_type": "code",
   "execution_count": null,
   "id": "812b5439",
   "metadata": {},
   "outputs": [],
   "source": [
    "marker_genes"
   ]
  },
  {
   "cell_type": "code",
   "execution_count": null,
   "id": "057bd597",
   "metadata": {},
   "outputs": [],
   "source": [
    "esophag = get_dotplot(adata, marker_genes, figsize=(7,7))"
   ]
  },
  {
   "cell_type": "code",
   "execution_count": null,
   "id": "22a730bc",
   "metadata": {},
   "outputs": [],
   "source": [
    "obs_df = adata.obs[adata.obs.metamembership==\"metasig5\"].copy()\n",
    "obs_df = obs_df.groupby(\"sample_id\").count()[\"batch\"]"
   ]
  },
  {
   "cell_type": "code",
   "execution_count": null,
   "id": "cbdc1a48",
   "metadata": {},
   "outputs": [],
   "source": [
    "cell_counts = adata.obs[\"sample_id\"].value_counts()"
   ]
  },
  {
   "cell_type": "code",
   "execution_count": null,
   "id": "7395bc60",
   "metadata": {},
   "outputs": [],
   "source": [
    "prop_patients_stem = (obs_df/cell_counts).round(2)*100\n",
    "prop_patients_stem = prop_patients_stem.sort_values(ascending=False).to_frame().reset_index()\n",
    "prop_patients_stem.columns = [\"Sample ID\",\"Fraction highly expressed\"]"
   ]
  },
  {
   "cell_type": "code",
   "execution_count": null,
   "id": "1849a95e",
   "metadata": {},
   "outputs": [],
   "source": [
    "plt.rcParams.update({'font.size': 22})\n",
    "fig, ax = plt.subplots(1,1,figsize=(30,5))\n",
    "sns.barplot(data=prop_patients_stem, x=\"Sample ID\", y=\"Fraction highly expressed\", \n",
    "            order=prop_patients_stem[\"Sample ID\"].ravel(), ax=ax, color=\"red\")\n",
    "ax.set_title(\"Fraction highly expressed\")\n",
    "ax.set_xticklabels(ax.get_xticklabels(),rotation=45)\n",
    "ax.set_xlabel(\"\")\n",
    "ax.set_ylabel(\"%\")\n",
    "ax.set_ylim([0,100])\n",
    "ax.spines['right'].set_visible(False)\n",
    "ax.spines['top'].set_visible(False)\n",
    "ax.spines[\"bottom\"].set_linewidth(1.5)\n",
    "ax.spines[\"left\"].set_linewidth(1.5)\n",
    "ax.axhline(25,xmin=0,xmax=prop_patients_stem.shape[0],color=\"gray\")\n",
    "fig.savefig(\"figures/stemness_fractionpatients.png\")\n",
    "fig.savefig(\"figures/stemness_fractionpatients.svg\")"
   ]
  },
  {
   "cell_type": "code",
   "execution_count": null,
   "id": "3905c5d1",
   "metadata": {},
   "outputs": [],
   "source": [
    "prop_patients_stem.describe()"
   ]
  },
  {
   "cell_type": "code",
   "execution_count": null,
   "id": "ac818c2c",
   "metadata": {},
   "outputs": [],
   "source": []
  }
 ],
 "metadata": {
  "kernelspec": {
   "display_name": "Python 3",
   "language": "python",
   "name": "python3"
  },
  "language_info": {
   "codemirror_mode": {
    "name": "ipython",
    "version": 3
   },
   "file_extension": ".py",
   "mimetype": "text/x-python",
   "name": "python",
   "nbconvert_exporter": "python",
   "pygments_lexer": "ipython3",
   "version": "3.8.8"
  }
 },
 "nbformat": 4,
 "nbformat_minor": 5
}
