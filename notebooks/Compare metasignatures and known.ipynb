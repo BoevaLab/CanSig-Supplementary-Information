{
 "cells": [
  {
   "cell_type": "code",
   "execution_count": 1,
   "id": "56366431",
   "metadata": {},
   "outputs": [],
   "source": [
    "import anndata\n",
    "import os\n",
    "import pathlib\n",
    "\n",
    "import numpy as np\n",
    "import pandas as pd\n",
    "import scanpy as sc\n",
    "import seaborn as sns\n",
    "import matplotlib.pyplot as plt\n",
    "\n",
    "from matplotlib.patches import Rectangle"
   ]
  },
  {
   "cell_type": "code",
   "execution_count": 2,
   "id": "29356d13",
   "metadata": {},
   "outputs": [],
   "source": []
  },
  {
   "cell_type": "code",
   "execution_count": null,
   "id": "7daf2535",
   "metadata": {},
   "outputs": [],
   "source": []
  },
  {
   "cell_type": "code",
   "execution_count": 7,
   "id": "d20280c9",
   "metadata": {},
   "outputs": [],
   "source": [
    "def rename_gbm_score(adata):\n",
    "    adata.obs[\"MESlike\"] = adata.obs[['mesenchymal1_score', 'mesenchymal2_score']].max(1)\n",
    "    adata.obs[\"NPClike\"] = adata.obs[['neural_precursor1_score', 'neural_precursor2_score']].max(1)\n",
    "\n",
    "    adata.obs.rename(columns={\"oligodendrocytic_precursor_score\": \"OPClike\",\n",
    "                              \"astrocyte_score\": \"AClike\"},\n",
    "                              inplace=True)\n",
    "    return adata"
   ]
  },
  {
   "cell_type": "code",
   "execution_count": 9,
   "id": "5528a271",
   "metadata": {},
   "outputs": [],
   "source": [
    "def gbm_neftel():\n",
    "    adata = anndata.read_text(\"/path/to/TPM/data/from/Neftel\")\n",
    "    adata = adata.transpose()\n",
    "    tsne_coords = pd.read_csv(\"/path/to/tsne/coord/from/Neftel\", \n",
    "                              delimiter=\"\\t\", index_col=0).drop(\"TYPE\")\n",
    "    meta_data = pd.read_csv(\"/path/to/meta/data/from/Neftel\", \n",
    "                            delimiter=\"\\t\", index_col=0).drop(\"TYPE\")\n",
    "    adata.obs = adata.obs.join(meta_data)\n",
    "    adata.obs = adata.obs.join(tsne_coords)\n",
    "\n",
    "    adata.obs[['MESlike2', 'MESlike1', 'AClike', 'OPClike', 'NPClike1', 'NPClike2']]= adata.obs[['MESlike2', 'MESlike1', 'AClike', 'OPClike', 'NPClike1', 'NPClike2']].astype(float)\n",
    "\n",
    "    adata = adata[adata.obs[\"CellAssignment\"]==\"Malignant\"].copy()\n",
    "    adata = adata[adata.obs.notna().all(1)].copy()\n",
    "\n",
    "    adata.obs[\"MESlike\"] = adata.obs[['MESlike2', 'MESlike1']].max(1)\n",
    "    adata.obs[\"NPClike\"] = adata.obs[['NPClike1', 'NPClike2']].max(1)\n",
    "    \n",
    "    return adata"
   ]
  },
  {
   "cell_type": "code",
   "execution_count": 9,
   "id": "3887e078",
   "metadata": {},
   "outputs": [],
   "source": [
    "def get_high_corr(x): \n",
    "    if x<0.65:\n",
    "        return np.nan\n",
    "    else:\n",
    "        return x"
   ]
  },
  {
   "cell_type": "code",
   "execution_count": 3,
   "id": "1889f2a3",
   "metadata": {},
   "outputs": [],
   "source": [
    "cancer_known_sigs = {\"hgg_gbm\": [\"MESlike\",  \"AClike\",\n",
    "                             \"NPClike\", \"OPClike\"],\n",
    "                     \"hgg\": [\"MESlike\",  \"AClike\",\n",
    "                             \"NPClike\", \"OPClike\"],\n",
    "                     \"gbm\": [\"MESlike\",  \"AClike\",\n",
    "                             \"NPClike\", \"OPClike\"],\n",
    "                    \"scc_red\": [\"Basal\", \"Differentiated\", \"TSK\",\n",
    "                             \"Cycling\"],\n",
    "                    }"
   ]
  },
  {
   "cell_type": "code",
   "execution_count": 5,
   "id": "363082f7",
   "metadata": {},
   "outputs": [],
   "source": [
    "cancer_types = [\"gbm\",\"hgg\",\"hgg_gbm\",\"scc_red\"]"
   ]
  },
  {
   "cell_type": "code",
   "execution_count": 4,
   "id": "aedd8c37",
   "metadata": {},
   "outputs": [],
   "source": [
    "dpath_basedir = pathlib.Path(\"path/to/preprocessed/data\")\n",
    "cancer_data_path = {\"hgg\": dpath_basedir / \"glioblastoma/2022-10-11_17-17-22/data/malignant.h5ad\", \n",
    "                    \"gbm\": dpath_basedir / \"glioblastoma_ss_neftel/_LAST\", \n",
    "                   \"scc_red\": dpath_basedir / \"scc_red/malignant_old.h5ad\", }"
   ]
  },
  {
   "cell_type": "code",
   "execution_count": 6,
   "id": "6f6ed033",
   "metadata": {},
   "outputs": [],
   "source": [
    "base_dir = pathlib.Path(\"/path/to/results/from/cansig\")"
   ]
  },
  {
   "cell_type": "code",
   "execution_count": 10,
   "id": "90878deb",
   "metadata": {
    "scrolled": true
   },
   "outputs": [
    {
     "name": "stdout",
     "output_type": "stream",
     "text": [
      "gbm\n",
      "Downloaded adata\n",
      "WARNING: genes are not in var_names and ignored: ['LINC00504']\n",
      "WARNING: genes are not in var_names and ignored: ['ERO1A', 'YBX3']\n"
     ]
    },
    {
     "name": "stderr",
     "output_type": "stream",
     "text": [
      "/cluster/home/jyates/Documents/home_dir/scrna/lib/python3.8/site-packages/scanpy/tools/_score_genes.py:151: FutureWarning: Passing a set as an indexer is deprecated and will raise in a future version. Use a list instead.\n",
      "  for cut in np.unique(obs_cut.loc[gene_list]):\n"
     ]
    },
    {
     "name": "stdout",
     "output_type": "stream",
     "text": [
      "WARNING: genes are not in var_names and ignored: ['MTRNR2L9']\n"
     ]
    },
    {
     "name": "stderr",
     "output_type": "stream",
     "text": [
      "/cluster/home/jyates/Documents/home_dir/scrna/lib/python3.8/site-packages/scanpy/tools/_score_genes.py:151: FutureWarning: Passing a set as an indexer is deprecated and will raise in a future version. Use a list instead.\n",
      "  for cut in np.unique(obs_cut.loc[gene_list]):\n",
      "/cluster/home/jyates/Documents/home_dir/scrna/lib/python3.8/site-packages/scanpy/tools/_score_genes.py:151: FutureWarning: Passing a set as an indexer is deprecated and will raise in a future version. Use a list instead.\n",
      "  for cut in np.unique(obs_cut.loc[gene_list]):\n"
     ]
    },
    {
     "name": "stdout",
     "output_type": "stream",
     "text": [
      "WARNING: genes are not in var_names and ignored: ['MIR4697HG']\n"
     ]
    },
    {
     "name": "stderr",
     "output_type": "stream",
     "text": [
      "/cluster/home/jyates/Documents/home_dir/scrna/lib/python3.8/site-packages/scanpy/tools/_score_genes.py:151: FutureWarning: Passing a set as an indexer is deprecated and will raise in a future version. Use a list instead.\n",
      "  for cut in np.unique(obs_cut.loc[gene_list]):\n",
      "/cluster/home/jyates/Documents/home_dir/scrna/lib/python3.8/site-packages/scanpy/tools/_score_genes.py:151: FutureWarning: Passing a set as an indexer is deprecated and will raise in a future version. Use a list instead.\n",
      "  for cut in np.unique(obs_cut.loc[gene_list]):\n"
     ]
    },
    {
     "name": "stdout",
     "output_type": "stream",
     "text": [
      "hgg\n",
      "Downloaded adata\n"
     ]
    },
    {
     "name": "stderr",
     "output_type": "stream",
     "text": [
      "/cluster/home/jyates/Documents/home_dir/scrna/lib/python3.8/site-packages/scanpy/tools/_score_genes.py:151: FutureWarning: Passing a set as an indexer is deprecated and will raise in a future version. Use a list instead.\n",
      "  for cut in np.unique(obs_cut.loc[gene_list]):\n",
      "/cluster/home/jyates/Documents/home_dir/scrna/lib/python3.8/site-packages/scanpy/tools/_score_genes.py:151: FutureWarning: Passing a set as an indexer is deprecated and will raise in a future version. Use a list instead.\n",
      "  for cut in np.unique(obs_cut.loc[gene_list]):\n",
      "/cluster/home/jyates/Documents/home_dir/scrna/lib/python3.8/site-packages/scanpy/tools/_score_genes.py:151: FutureWarning: Passing a set as an indexer is deprecated and will raise in a future version. Use a list instead.\n",
      "  for cut in np.unique(obs_cut.loc[gene_list]):\n",
      "/cluster/home/jyates/Documents/home_dir/scrna/lib/python3.8/site-packages/scanpy/tools/_score_genes.py:151: FutureWarning: Passing a set as an indexer is deprecated and will raise in a future version. Use a list instead.\n",
      "  for cut in np.unique(obs_cut.loc[gene_list]):\n",
      "/cluster/home/jyates/Documents/home_dir/scrna/lib/python3.8/site-packages/scanpy/tools/_score_genes.py:151: FutureWarning: Passing a set as an indexer is deprecated and will raise in a future version. Use a list instead.\n",
      "  for cut in np.unique(obs_cut.loc[gene_list]):\n"
     ]
    },
    {
     "name": "stdout",
     "output_type": "stream",
     "text": [
      "hgg_gbm\n",
      "Downloaded adata\n",
      "WARNING: genes are not in var_names and ignored: ['PLPP3']\n"
     ]
    },
    {
     "name": "stderr",
     "output_type": "stream",
     "text": [
      "/cluster/home/jyates/Documents/home_dir/scrna/lib/python3.8/site-packages/scanpy/tools/_score_genes.py:151: FutureWarning: Passing a set as an indexer is deprecated and will raise in a future version. Use a list instead.\n",
      "  for cut in np.unique(obs_cut.loc[gene_list]):\n"
     ]
    },
    {
     "name": "stdout",
     "output_type": "stream",
     "text": [
      "WARNING: genes are not in var_names and ignored: ['RP11-61L23.2', 'RP11-798M19.6', 'LINC00969']\n"
     ]
    },
    {
     "name": "stderr",
     "output_type": "stream",
     "text": [
      "/cluster/home/jyates/Documents/home_dir/scrna/lib/python3.8/site-packages/scanpy/tools/_score_genes.py:151: FutureWarning: Passing a set as an indexer is deprecated and will raise in a future version. Use a list instead.\n",
      "  for cut in np.unique(obs_cut.loc[gene_list]):\n",
      "/cluster/home/jyates/Documents/home_dir/scrna/lib/python3.8/site-packages/scanpy/tools/_score_genes.py:151: FutureWarning: Passing a set as an indexer is deprecated and will raise in a future version. Use a list instead.\n",
      "  for cut in np.unique(obs_cut.loc[gene_list]):\n"
     ]
    },
    {
     "name": "stdout",
     "output_type": "stream",
     "text": [
      "WARNING: genes are not in var_names and ignored: ['LINC01578']\n"
     ]
    },
    {
     "name": "stderr",
     "output_type": "stream",
     "text": [
      "/cluster/home/jyates/Documents/home_dir/scrna/lib/python3.8/site-packages/scanpy/tools/_score_genes.py:151: FutureWarning: Passing a set as an indexer is deprecated and will raise in a future version. Use a list instead.\n",
      "  for cut in np.unique(obs_cut.loc[gene_list]):\n",
      "/cluster/home/jyates/Documents/home_dir/scrna/lib/python3.8/site-packages/scanpy/tools/_score_genes.py:151: FutureWarning: Passing a set as an indexer is deprecated and will raise in a future version. Use a list instead.\n",
      "  for cut in np.unique(obs_cut.loc[gene_list]):\n"
     ]
    },
    {
     "name": "stdout",
     "output_type": "stream",
     "text": [
      "scc_red\n",
      "Downloaded adata\n"
     ]
    },
    {
     "name": "stderr",
     "output_type": "stream",
     "text": [
      "/cluster/home/jyates/Documents/home_dir/scrna/lib/python3.8/site-packages/scanpy/tools/_score_genes.py:151: FutureWarning: Passing a set as an indexer is deprecated and will raise in a future version. Use a list instead.\n",
      "  for cut in np.unique(obs_cut.loc[gene_list]):\n",
      "/cluster/home/jyates/Documents/home_dir/scrna/lib/python3.8/site-packages/scanpy/tools/_score_genes.py:151: FutureWarning: Passing a set as an indexer is deprecated and will raise in a future version. Use a list instead.\n",
      "  for cut in np.unique(obs_cut.loc[gene_list]):\n",
      "/cluster/home/jyates/Documents/home_dir/scrna/lib/python3.8/site-packages/scanpy/tools/_score_genes.py:151: FutureWarning: Passing a set as an indexer is deprecated and will raise in a future version. Use a list instead.\n",
      "  for cut in np.unique(obs_cut.loc[gene_list]):\n",
      "/cluster/home/jyates/Documents/home_dir/scrna/lib/python3.8/site-packages/scanpy/tools/_score_genes.py:151: FutureWarning: Passing a set as an indexer is deprecated and will raise in a future version. Use a list instead.\n",
      "  for cut in np.unique(obs_cut.loc[gene_list]):\n",
      "/cluster/home/jyates/Documents/home_dir/scrna/lib/python3.8/site-packages/scanpy/tools/_score_genes.py:151: FutureWarning: Passing a set as an indexer is deprecated and will raise in a future version. Use a list instead.\n",
      "  for cut in np.unique(obs_cut.loc[gene_list]):\n"
     ]
    }
   ],
   "source": [
    "corr_metasig = {}\n",
    "for cancer in cancer_types:\n",
    "    print(cancer)\n",
    "    name = cancer\n",
    "    \n",
    "    if cancer in [\"gbm\",\"hgg_gbm\"]:\n",
    "        adata= gbm_neftel()\n",
    "        print(\"Downloaded adata\")\n",
    "        \n",
    "        if cancer==\"hgg_gbm\":\n",
    "            name = \"hgg\"\n",
    "            \n",
    "        sig_dir = base_dir / f\"{name}\" / \"metasignatures\" / \"signatures\"\n",
    "    else:\n",
    "        adata = sc.read_h5ad(cancer_data_path[cancer])\n",
    "        sc.pp.normalize_total(adata)\n",
    "        sc.pp.log1p(adata)\n",
    "        print(\"Downloaded adata\")\n",
    "        \n",
    "        if cancer==\"hgg\":\n",
    "            adata = rename_gbm_score(adata)\n",
    "        sig_dir = base_dir / f\"{name}\" / \"metasignatures\" / \"signatures\"\n",
    "        \n",
    "    metasig_names = []\n",
    "    for i in range(len(list(sig_dir.iterdir()))):\n",
    "        sig_path = sig_dir / f\"metasig{i+1}.csv\"\n",
    "        sig = pd.read_csv(sig_path, index_col=0).iloc[:50, 0].tolist()\n",
    "        sc.tl.score_genes(adata, gene_list=sig, score_name=f\"metasig{i+1}\")\n",
    "        metasig_names.append(f\"metasig{i+1}\")\n",
    "    col_to_compare = cancer_known_sigs[cancer] + metasig_names\n",
    "    corr_metasig[cancer] = adata.obs[col_to_compare].corr().loc[cancer_known_sigs[cancer],metasig_names]"
   ]
  },
  {
   "cell_type": "code",
   "execution_count": 19,
   "id": "de2dc966",
   "metadata": {},
   "outputs": [
    {
     "data": {
      "image/png": "[encoded data removed]",
      "text/plain": [
       "<Figure size 576x360 with 5 Axes>"
      ]
     },
     "metadata": {
      "needs_background": "light"
     },
     "output_type": "display_data"
    }
   ],
   "source": [
    "cancer_names = {\"hgg\": \"HGG\",\n",
    "                \"gbm\": \"GBM\",\"hgg_gbm\": \"HGG (scored on GBM)\",\n",
    "                \"scc_red\": \"SCC\", }\n",
    "fig, ax = plt.subplots(2,2,figsize=(8,5),gridspec_kw={'width_ratios': [3,3]})\n",
    "flatax = ax.flatten()\n",
    "hide_cbar = [False]*(len(cancer_types)-1)+[True]\n",
    "for i,cancer in enumerate(cancer_types):\n",
    "    \n",
    "    df = corr_metasig[cancer]\n",
    "    \n",
    "    annot = df.applymap(get_high_corr).round(2)\n",
    "    annot = annot.fillna(\"\").astype(str)\n",
    "\n",
    "    sns.heatmap(data=df, cmap=\"vlag\", center=0.0, vmin=-1, vmax=1, annot=annot, fmt = '', ax=flatax[i], cbar=hide_cbar[i])\n",
    "    \n",
    "    column_max = df.fillna(-np.inf).idxmax(axis=0)\n",
    "\n",
    "    for col, variable in enumerate(df.columns):\n",
    "        if df[variable].max()<0.65:\n",
    "            continue\n",
    "        position = df.index.get_loc(column_max[variable])\n",
    "        flatax[i].add_patch(Rectangle((col, position),1,1, fill=False, edgecolor='blue', lw=2))\n",
    "        \n",
    "    \n",
    "    flatax[i].set_xticklabels(flatax[i].get_xticklabels(),rotation=\"45\",horizontalalignment=\"right\")\n",
    "    flatax[i].set_yticklabels(flatax[i].get_yticklabels(),rotation=\"0\",verticalalignment=\"center\")\n",
    "    flatax[i].set_title(cancer_names[cancer], fontsize=15)\n",
    "\n",
    "\n",
    "fig.tight_layout()\n",
    "fig.savefig(\"path/to/save/fig\",bbox_inches=\"tight\",dpi=300)\n",
    "fig.savefig(\"path/to/save/fig\", bbox_inches=\"tight\")"
   ]
  },
  {
   "cell_type": "code",
   "execution_count": null,
   "id": "0ebc2398",
   "metadata": {},
   "outputs": [],
   "source": []
  }
 ],
 "metadata": {
  "kernelspec": {
   "display_name": "Python 3",
   "language": "python",
   "name": "python3"
  },
  "language_info": {
   "codemirror_mode": {
    "name": "ipython",
    "version": 3
   },
   "file_extension": ".py",
   "mimetype": "text/x-python",
   "name": "python",
   "nbconvert_exporter": "python",
   "pygments_lexer": "ipython3",
   "version": "3.8.8"
  }
 },
 "nbformat": 4,
 "nbformat_minor": 5
}
