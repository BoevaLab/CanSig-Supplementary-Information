{
 "cells": [
  {
   "cell_type": "code",
   "execution_count": null,
   "id": "7cc66cfa",
   "metadata": {},
   "outputs": [],
   "source": [
    "import os\n",
    "\n",
    "import matplotlib.pyplot as plt\n",
    "import numpy as np\n",
    "import pandas as pd\n",
    "import seaborn as sns\n",
    "\n",
    "from collections import defaultdict\n",
    "from gtfparse import read_gtf\n",
    "from lifelines import CoxPHFitter\n",
    "from scipy.stats import kruskal\n",
    "from sklearn.preprocessing import StandardScaler\n",
    "from statannot import add_stat_annotation\n",
    "from statsmodels.stats.multitest import multipletests"
   ]
  },
  {
   "cell_type": "code",
   "execution_count": null,
   "id": "ea0ae606",
   "metadata": {},
   "outputs": [],
   "source": [
    "def pretty_ax(ax):\n",
    "    ax.spines['right'].set_visible(False)\n",
    "    ax.spines['top'].set_visible(False)\n",
    "    ax.tick_params(\n",
    "        axis='both',  \n",
    "        which='both',      \n",
    "        bottom=True,     \n",
    "        top=False,\n",
    "        left=False,\n",
    "        labelbottom=True,\n",
    "        labelleft = True)\n",
    "    ax.spines[\"bottom\"].set_linewidth(1.5)\n",
    "    ax.spines[\"left\"].set_linewidth(1.5)"
   ]
  },
  {
   "cell_type": "code",
   "execution_count": null,
   "id": "6f06642b",
   "metadata": {},
   "outputs": [],
   "source": [
    "def get_survival_sig(sig, std_fpkm, clinmat, corrected = False):\n",
    "    scores = std_fpkm[std_fpkm.columns.intersection(sig)].mean(axis=1)\n",
    "    scores.name = \"score\"\n",
    "    augclin = pd.concat([clin,scores],axis=1)\n",
    "    cph = CoxPHFitter()\n",
    "    if corrected:\n",
    "        if \"stage\" in augclin.columns:\n",
    "            cph.fit(augclin[[\"OS\",\"OS.time\",\"score\",\"Purity\",\"stage\",'age']].dropna().astype(float), duration_col=\"OS.time\", event_col=\"OS\")\n",
    "        else:\n",
    "            cph.fit(augclin[[\"OS\",\"OS.time\",\"score\",\"Purity\",'age']].dropna().astype(float), duration_col=\"OS.time\", event_col=\"OS\")\n",
    "        \n",
    "    else:\n",
    "        if \"stage\" in augclin.columns:\n",
    "            cph.fit(augclin[[\"OS\",\"OS.time\",\"score\"]].dropna().astype(float), duration_col=\"OS.time\", event_col=\"OS\")\n",
    "        else:\n",
    "            cph.fit(augclin[[\"OS\",\"OS.time\",\"score\"]].dropna().astype(float), duration_col=\"OS.time\", event_col=\"OS\")\n",
    "    return cph.summary, cph"
   ]
  },
  {
   "cell_type": "code",
   "execution_count": null,
   "id": "25420389",
   "metadata": {},
   "outputs": [],
   "source": [
    "def get_genes_region(gene_annotation: pd.DataFrame, chrom_gain_sign: pd.DataFrame) -> np.ndarray:\n",
    "    \n",
    "    chromosome, _, _ = chrom_gain_sign.iloc[0]\n",
    "    chromdf = gene_annotation[gene_annotation.seqname==chromosome]\n",
    "    \n",
    "    region_genes = {}\n",
    "    for i in range(chrom_gain_sign.shape[0]):\n",
    "        _, region_start, region_end = chrom_gain_sign.iloc[i]\n",
    "        region_start = int(region_start)\n",
    "        region_end = int(region_end)\n",
    "\n",
    "        found = chromdf[(chromdf.start>=region_start) & (chromdf.end<=region_end)].gene_name.ravel()\n",
    "        name = chromosome + \":\" + str(region_start) + \"-\" + str(region_end)\n",
    "        region_genes[name] = found\n",
    "    return region_genes"
   ]
  },
  {
   "cell_type": "code",
   "execution_count": null,
   "id": "f963894b",
   "metadata": {},
   "outputs": [],
   "source": []
  },
  {
   "cell_type": "code",
   "execution_count": null,
   "id": "85269546",
   "metadata": {},
   "outputs": [],
   "source": [
    "fpkm_dir = \"/path/to/fpkm/tcga/data\"\n",
    "\n",
    "fpkm = pd.read_csv(os.path.join(fpkm_dir,\"ESCA_gene_fpkm.csv\"),index_col=0)\n",
    "fpkm = fpkm.loc[~fpkm.index.duplicated(keep=\"first\")]\n",
    "fpkm = fpkm.loc[:,~fpkm.columns.duplicated(keep=\"first\")]\n",
    "\n",
    "clin_dir = \"/path/to/preprocessed/clinical/data/\"\n",
    "clin = pd.read_csv(os.path.join(clin_dir,\"ESCA_clin_mat.csv\"),index_col=0)"
   ]
  },
  {
   "cell_type": "code",
   "execution_count": null,
   "id": "d7cdbe27",
   "metadata": {},
   "outputs": [],
   "source": [
    "purity = pd.read_csv(\"path/to/ESTIMATE/purity\",index_col=0) # for ESCA\n",
    "cancer_purity = purity[purity[\"cancer_type\"]==\"ESCA\"][\"TumorPurity\"]"
   ]
  },
  {
   "cell_type": "code",
   "execution_count": null,
   "id": "61a4e507",
   "metadata": {},
   "outputs": [],
   "source": [
    "cancer_purity.index = cancer_purity.index.str.rstrip(\"A\")\n",
    "cancer_purity.index = cancer_purity.index.str.rstrip(\"B\")\n",
    "cancer_purity.index = cancer_purity.index.str.rstrip(\"C\")\n",
    "\n",
    "cancer_purity = cancer_purity.loc[~cancer_purity.index.duplicated(keep=\"first\")]\n",
    "\n",
    "clin = pd.concat([clin,cancer_purity],axis=1).dropna().rename(columns={\"CPE\": \"Purity\", \"TumorPurity\": \"Purity\"})\n",
    "clin = clin.loc[~clin.index.duplicated(keep=\"first\")]"
   ]
  },
  {
   "cell_type": "code",
   "execution_count": null,
   "id": "34b85bd0",
   "metadata": {},
   "outputs": [],
   "source": [
    "stage_mapping = {\"Stage X\": np.nan, \"Stage IV\": 4, \"Stage IVA\": 4, \"Stage IIB\": 2, \"Stage IA\": 1, \"Stage IIIA\": 3, \"Stage IIA\": 2, \"Stage IIC\": 2, \n",
    "                 \"Stage I\": 1, \"Stage IIIC\": 3, \"Stage IB\": 1, \"Stage IIIB\": 3, 'Stage III': 3, \"Stage II\": 2, \"I/II NOS\": 1,\n",
    "                 \"[Discrepancy]\": np.nan}\n",
    "\n",
    "clin.age = -clin.age\n",
    "clin.age = (clin.age - clin.age.mean())/(clin.age.std())\n",
    "clin.stage = clin.stage.replace(stage_mapping).dropna()"
   ]
  },
  {
   "cell_type": "code",
   "execution_count": null,
   "id": "376fa06e",
   "metadata": {},
   "outputs": [],
   "source": [
    "gencode = pd.read_csv(\"path/to/gencode/mapping\")\n",
    "gencode = gencode.set_index('gencode_id_gex')\n",
    "\n",
    "mapping_gen = gencode.loc[fpkm.columns.intersection(gencode.index)].gene_name.to_dict()\n",
    "\n",
    "fpkm = fpkm.loc[:,fpkm.columns.intersection(gencode.index)]\n",
    "\n",
    "fpkm = fpkm.rename(columns=mapping_gen)"
   ]
  },
  {
   "cell_type": "code",
   "execution_count": null,
   "id": "b4b1b39d",
   "metadata": {},
   "outputs": [],
   "source": [
    "ss = StandardScaler()\n",
    "std_fpkm = pd.DataFrame(ss.fit_transform(fpkm),index=fpkm.index,columns=fpkm.columns)"
   ]
  },
  {
   "cell_type": "code",
   "execution_count": null,
   "id": "54552d46",
   "metadata": {},
   "outputs": [],
   "source": [
    "signature_dir = \"path/to/esophag/metasignatures/from/cansig\""
   ]
  },
  {
   "cell_type": "code",
   "execution_count": null,
   "id": "5463eba6",
   "metadata": {},
   "outputs": [],
   "source": [
    "all_sigs = {}\n",
    "for s in os.listdir(signature_dir):\n",
    "    sig = s.split(\".csv\")[0]\n",
    "    all_sigs[sig] = pd.read_csv(os.path.join(signature_dir,s),index_col=0)\n",
    "    all_sigs[sig] = all_sigs[sig].iloc[:50].values.ravel()"
   ]
  },
  {
   "cell_type": "code",
   "execution_count": null,
   "id": "eaede8e0",
   "metadata": {},
   "outputs": [],
   "source": [
    "corrected_df_new = []\n",
    "for s in sorted(list(all_sigs.keys())):\n",
    "    sig_cph, _ = get_survival_sig(all_sigs[s], std_fpkm, clin, corrected=True)\n",
    "    sig_cph = sig_cph.rename(index={\"score\": s, \"Purity\": f\"purity_{s}\", \"age\": f\"age_{s}\", \"stage\": f\"stage_{s}\"})\n",
    "    corrected_df_new.append(sig_cph)\n",
    "corrected_df_new = pd.concat(corrected_df_new)"
   ]
  },
  {
   "cell_type": "code",
   "execution_count": null,
   "id": "5f36f535",
   "metadata": {},
   "outputs": [],
   "source": [
    "corrected_df_new"
   ]
  },
  {
   "cell_type": "code",
   "execution_count": null,
   "id": "320ae723",
   "metadata": {
    "scrolled": false
   },
   "outputs": [],
   "source": [
    "uncorrected_df_new = []\n",
    "for s in sorted(list(all_sigs.keys())):\n",
    "    sig_cph, _ = get_survival_sig(all_sigs[s], std_fpkm, clin, corrected=False)\n",
    "    sig_cph = sig_cph.rename(index={\"score\": s, \"Purity\": f\"purity_{s}\", \"age\": f\"age_{s}\", \"stage\": f\"stage_{s}\"})\n",
    "    uncorrected_df_new.append(sig_cph)\n",
    "uncorrected_df_new = pd.concat(uncorrected_df_new)"
   ]
  },
  {
   "cell_type": "code",
   "execution_count": null,
   "id": "3e1d8cd9",
   "metadata": {},
   "outputs": [],
   "source": [
    "uncorrected_df_new"
   ]
  },
  {
   "cell_type": "code",
   "execution_count": null,
   "id": "15d93725",
   "metadata": {},
   "outputs": [],
   "source": [
    "scores = std_fpkm[std_fpkm.columns.intersection(all_sigs[\"metasig5\"])].mean(axis=1)\n",
    "scores.name = \"Signature score\"\n",
    "augclin = pd.concat([clin,scores],axis=1)"
   ]
  },
  {
   "cell_type": "code",
   "execution_count": null,
   "id": "146a1cca",
   "metadata": {},
   "outputs": [],
   "source": [
    "augclin.corr(method=\"spearman\")"
   ]
  },
  {
   "cell_type": "code",
   "execution_count": null,
   "id": "168809e0",
   "metadata": {},
   "outputs": [],
   "source": [
    "augclin.stage = augclin.stage.replace({1: \"I\", 2: 'II', 3: \"III/IV\", 4: \"III/IV\"})"
   ]
  },
  {
   "cell_type": "code",
   "execution_count": null,
   "id": "7eb6bc6c",
   "metadata": {},
   "outputs": [],
   "source": [
    "fig, ax = plt.subplots(1,1)\n",
    "plt.rcParams.update({'font.size': 15})\n",
    "sns.violinplot(data=augclin, x=\"stage\", y=\"Signature score\", order=[\"I\",\"II\",\"III/IV\"], ax=ax)\n",
    "pretty_ax(ax)\n",
    "add_stat_annotation(data=augclin, x=\"stage\", y=\"Signature score\", order=[\"I\",\"II\",\"III/IV\"], ax=ax,\n",
    "                   box_pairs=[(\"I\",\"II\"),(\"I\",\"III/IV\")],\n",
    "                   test=\"Mann-Whitney\")\n",
    "ax.set_xlabel(\"Stage\")\n",
    "medians = augclin.groupby(by=\"stage\").median()[\"Signature score\"].round(2)\n",
    "ax.text(0.05,medians['I'],f\"{medians['I']}\",fontdict={\"size\": 11},c=\"black\")\n",
    "ax.text(1.05,medians['II'],f\"{medians['II']}\",fontdict={\"size\": 11},c=\"black\")\n",
    "ax.text(2.05,medians['III/IV'],f\"{medians['III/IV']}\",fontdict={\"size\": 11},c=\"black\")\n",
    "fig.savefig(\"path/to/fig/signature_stage.svg\",tight_layout=True)"
   ]
  },
  {
   "cell_type": "code",
   "execution_count": null,
   "id": "01bc351a",
   "metadata": {},
   "outputs": [],
   "source": [
    "multipletests(allps, method=\"fdr_bh\")"
   ]
  },
  {
   "cell_type": "code",
   "execution_count": null,
   "id": "e7dd990c",
   "metadata": {},
   "outputs": [],
   "source": [
    "esca_cnv = pd.read_csv(\"/path/to/thresholded/cnv/TCGA\",sep=\"\\t\",index_col=0).T\n",
    "\n",
    "gene_annotation = read_gtf('/path/to/gencode/v40/gtf')"
   ]
  },
  {
   "cell_type": "code",
   "execution_count": null,
   "id": "d6194e0f",
   "metadata": {},
   "outputs": [],
   "source": [
    "sign_gains = pd.read_csv(\"/path/to/saved/significant/gains/escc/cansig\",index_col=0)\n",
    "\n",
    "chroms = sign_gains.index.str.split(\":\").str[0]\n",
    "poss = sign_gains.index.str.split(\":\").str[1]\n",
    "starts = poss.str.split(\"-\").str[0]\n",
    "ends = poss.str.split(\"-\").str[1]\n",
    "\n",
    "df_sign_gain = pd.DataFrame(np.array([chroms,starts,ends]),index=[\"chromosome\",\"start\",\"end\"]).T"
   ]
  },
  {
   "cell_type": "code",
   "execution_count": null,
   "id": "76898011",
   "metadata": {},
   "outputs": [],
   "source": [
    "gene_annotation = gene_annotation[gene_annotation.feature==\"gene\"]"
   ]
  },
  {
   "cell_type": "code",
   "execution_count": null,
   "id": "2d64e961",
   "metadata": {},
   "outputs": [],
   "source": [
    "unique_chroms = df_sign_gain.chromosome.unique()"
   ]
  },
  {
   "cell_type": "code",
   "execution_count": null,
   "id": "c0ea98d0",
   "metadata": {},
   "outputs": [],
   "source": [
    "p_values = {}\n",
    "cnv_gene_scores = {}\n",
    "for chromosome in unique_chroms:\n",
    "    chrom_gain_sign = df_sign_gain[df_sign_gain[\"chromosome\"]==chromosome]\n",
    "    region_genes = get_genes_region(gene_annotation=gene_annotation, chrom_gain_sign=chrom_gain_sign)\n",
    "    \n",
    "    for region_name in region_genes:\n",
    "        selcnvgenes = esca_cnv.columns.intersection(region_genes[region_name])\n",
    "\n",
    "        selgenesgain = (esca_cnv[selcnvgenes]>0).astype(int).sum(axis=1)\n",
    "        selgenesloss = (esca_cnv[selcnvgenes]<0).astype(int).sum(axis=1)\n",
    "        patinclude = (selgenesloss[selgenesloss==0]).index\n",
    "        selgenesgain = selgenesgain.loc[patinclude]\n",
    "        patgains = (selgenesgain>(len(selcnvgenes)/2)).astype(int)\n",
    "\n",
    "        patgains.name = \"region_gained\"\n",
    "\n",
    "        cnv_gene_score = pd.concat([scores,patgains],axis=1).dropna()\n",
    "        cnv_gene_scores[region_name] = cnv_gene_score\n",
    "        score_neutral = cnv_gene_score[cnv_gene_score.region_gained==0][\"Signature score\"].ravel()\n",
    "        score_gained = cnv_gene_score[cnv_gene_score.region_gained==1][\"Signature score\"].ravel()\n",
    "        p_values[region_name] = kruskal(score_neutral, score_gained)[1]"
   ]
  },
  {
   "cell_type": "code",
   "execution_count": null,
   "id": "31719c8d",
   "metadata": {},
   "outputs": [],
   "source": [
    "q_values = multipletests(list(p_values.values()),method=\"fdr_bh\")[1]"
   ]
  },
  {
   "cell_type": "code",
   "execution_count": null,
   "id": "b0f8f6f6",
   "metadata": {},
   "outputs": [],
   "source": [
    "sign_regions = np.array(list(p_values.keys()))[q_values<0.05]"
   ]
  },
  {
   "cell_type": "code",
   "execution_count": null,
   "id": "06ce24f4",
   "metadata": {},
   "outputs": [],
   "source": [
    "list_regions = np.char.split(sign_regions,\":\")"
   ]
  },
  {
   "cell_type": "code",
   "execution_count": null,
   "id": "2c839ac7",
   "metadata": {},
   "outputs": [],
   "source": [
    "big_regions = defaultdict(list)\n",
    "for i,reg in enumerate(list_regions):\n",
    "    big_regions[reg[0]].append(sign_regions[i])"
   ]
  },
  {
   "cell_type": "code",
   "execution_count": null,
   "id": "7d0a6cac",
   "metadata": {},
   "outputs": [],
   "source": [
    "big_region_scores = defaultdict(list)\n",
    "for chrom in list(big_regions.keys()):\n",
    "    for reg in big_regions[chrom]:\n",
    "        big_region_scores[chrom].append(cnv_gene_scores[reg][\"region_gained\"])\n",
    "    big_region_scores[chrom] = (pd.concat(big_region_scores[chrom],axis=1).sum(axis=1)>=(len(big_region_scores[chrom])/2)).astype(int)\n",
    "    big_region_scores[chrom] = pd.concat([big_region_scores[chrom],cnv_gene_scores[reg][\"Signature score\"]],axis=1)\n",
    "    big_region_scores[chrom].columns = [\"Region gained\",\"Signature score\"]"
   ]
  },
  {
   "cell_type": "code",
   "execution_count": null,
   "id": "502f8ae5",
   "metadata": {},
   "outputs": [],
   "source": [
    "for region_name in big_region_scores:\n",
    "    cnv_gene_plot = big_region_scores[region_name].replace({0: \"Neutral\", 1: \"Gain/Amplif.\"})\n",
    "    vc = cnv_gene_plot[\"Region gained\"].value_counts()\n",
    "    n_gained = vc.loc[\"Gain/Amplif.\"]\n",
    "    n_neutral = vc.loc[\"Neutral\"]\n",
    "    print(cnv_gene_plot.groupby(by=\"Region gained\").describe())\n",
    "    \n",
    "    fig, ax = plt.subplots(1,1)\n",
    "    plt.rcParams.update({'font.size': 15})\n",
    "    sns.violinplot(data=cnv_gene_plot ,x=\"Region gained\",y=\"Signature score\",order=[\"Neutral\",\"Gain/Amplif.\"],ax=ax)\n",
    "    pretty_ax(ax)\n",
    "    add_stat_annotation(data=cnv_gene_plot ,x=\"Region gained\",y=\"Signature score\",order=[\"Neutral\",\"Gain/Amplif.\"],\n",
    "                        ax=ax,\n",
    "                       box_pairs=[(\"Neutral\",\"Gain/Amplif.\")],\n",
    "                       test=\"Mann-Whitney\")\n",
    "    ax.set_xlabel(f\"CNV status {region_name}\")\n",
    "    ax.set_xticklabels([f\"Neutral n={n_neutral}\",f\"Gain/Amplif. n={n_gained}\"])\n",
    "    medians = cnv_gene_plot.groupby(by=\"Region gained\").median().round(2)\n",
    "    print(medians)\n",
    "    ax.text(0.05,medians.loc['Neutral'],f\"{float(medians.loc['Neutral'])}\",fontdict={\"size\": 15},c=\"w\")\n",
    "    ax.text(1.05,medians.loc['Gain/Amplif.'],f\"{float(medians.loc['Gain/Amplif.'])}\",fontdict={\"size\": 15},c=\"w\")\n",
    "    fig.savefig(f\"path/to/fig/cnv_signature_{region_name}.svg\",bbox_inches=\"tight\")"
   ]
  },
  {
   "cell_type": "code",
   "execution_count": null,
   "id": "7b501738",
   "metadata": {},
   "outputs": [],
   "source": []
  }
 ],
 "metadata": {
  "kernelspec": {
   "display_name": "Python 3",
   "language": "python",
   "name": "python3"
  },
  "language_info": {
   "codemirror_mode": {
    "name": "ipython",
    "version": 3
   },
   "file_extension": ".py",
   "mimetype": "text/x-python",
   "name": "python",
   "nbconvert_exporter": "python",
   "pygments_lexer": "ipython3",
   "version": "3.8.8"
  }
 },
 "nbformat": 4,
 "nbformat_minor": 5
}
