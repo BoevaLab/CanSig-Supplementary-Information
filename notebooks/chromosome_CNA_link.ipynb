{
 "cells": [
  {
   "cell_type": "code",
   "execution_count": null,
   "id": "967c9522",
   "metadata": {},
   "outputs": [],
   "source": [
    "from typing import Tuple, Dict, List\n",
    "\n",
    "import numpy as np\n",
    "import pandas as pd\n",
    "import pathlib as pl\n",
    "import scanpy as sc\n",
    "import seaborn as sns"
   ]
  },
  {
   "cell_type": "code",
   "execution_count": null,
   "id": "6f12540e",
   "metadata": {},
   "outputs": [],
   "source": [
    "def get_high_cnv_metasig(diffCNV: pd.DataFrame, metasig: str, qval: float=0.05, threshold_perc: float=0.2) -> Tuple[pd.Series, pd.Series]:\n",
    "    \n",
    "    ms_df = diffCNV.loc[:,diffCNV.columns.str.startswith(metasig)]\n",
    "    ms_df = ms_df[ms_df[f\"{metasig}_qvalues\"]<qval]\n",
    "    \n",
    "    ms_df_gains = ms_df[ms_df[f\"{metasig}_patients_gain\"]>1]\n",
    "    ms_df_losses = ms_df[ms_df[f\"{metasig}_patients_loss\"]>1]\n",
    "    \n",
    "    sorted_gains = (ms_df_gains[f\"{metasig}_perc_gains\"] - ms_df_gains[f\"{metasig}_rest_gains\"]).sort_values(ascending=False)\n",
    "    sorted_losses = (ms_df_losses[f\"{metasig}_perc_losses\"] - ms_df_losses[f\"{metasig}_rest_losses\"]).sort_values(ascending=False)\n",
    "    \n",
    "    high_gains = sorted_gains[sorted_gains>=threshold_perc]\n",
    "    high_losses = sorted_losses[sorted_losses>=threshold_perc]\n",
    "    \n",
    "    return high_gains, high_losses"
   ]
  },
  {
   "cell_type": "code",
   "execution_count": null,
   "id": "a330f565",
   "metadata": {},
   "outputs": [],
   "source": [
    "def get_high_cnv(diffCNV: pd.DataFrame, metasigs: np.ndarray) -> Dict[str, List[pd.Series]]:\n",
    "    high_cnvs = {}\n",
    "    for metasig in metasigs:\n",
    "        high_gains, high_losses = get_high_cnv_metasig(diffCNV, metasig, threshold_perc=0.25)\n",
    "        high_cnvs[metasig] = [high_gains, high_losses]\n",
    "    return high_cnvs"
   ]
  },
  {
   "cell_type": "code",
   "execution_count": null,
   "id": "739d157f",
   "metadata": {},
   "outputs": [],
   "source": [
    "from matplotlib import pyplot as plt\n",
    "from matplotlib.collections import BrokenBarHCollection\n",
    "import pandas\n",
    "\n",
    "##### CODE INSPIRED/TAKEN FROM https://www.biostars.org/p/147364/#147637\n",
    "\n",
    "# Here's the function that we'll call for each dataframe (once for chromosome\n",
    "# ideograms, once for genes).  The rest of this script will be prepping data\n",
    "# for input to this function\n",
    "#\n",
    "def chromosome_collections(df, y_positions, height,  **kwargs):\n",
    "    \"\"\"\n",
    "    Yields BrokenBarHCollection of features that can be added to an Axes\n",
    "    object.\n",
    "    Parameters\n",
    "    ----------\n",
    "    df : pandas.DataFrame\n",
    "        Must at least have columns ['chrom', 'start', 'end', 'color']. If no\n",
    "        column 'width', it will be calculated from start/end.\n",
    "    y_positions : dict\n",
    "        Keys are chromosomes, values are y-value at which to anchor the\n",
    "        BrokenBarHCollection\n",
    "    height : float\n",
    "        Height of each BrokenBarHCollection\n",
    "    Additional kwargs are passed to BrokenBarHCollection\n",
    "    \"\"\"\n",
    "    del_width = False\n",
    "    if 'width' not in df.columns:\n",
    "        del_width = True\n",
    "        df['width'] = df['end'] - df['start']\n",
    "    for chrom, group in df.groupby('chrom'):\n",
    "        yrange = (y_positions[chrom], height)\n",
    "        xranges = group[['start', 'width']].values\n",
    "        \n",
    "        yield BrokenBarHCollection(\n",
    "            xranges, yrange, facecolors=group['colors'], **kwargs)\n",
    "    if del_width:\n",
    "        del df['width']\n",
    "\n",
    "from matplotlib.lines import Line2D\n",
    "\n",
    "def get_chrom_df(cmetasigs: np.ndarray, diffCNV: pd.DataFrame, high_cnv: np.ndarray, gain_or_loss: str = \"gain\"):\n",
    "    assert gain_or_loss in [\"gain\",\"loss\"]\n",
    "    \n",
    "    gain_loss_map = {\"gain\": 0, \"loss\": 1}\n",
    "    dcnv = diffCNV.copy()\n",
    "    palette = sns.color_palette()\n",
    "    \n",
    "    colors = {cmetasigs[i]: palette[i] for i in range(len(cmetasigs))}\n",
    "    colors[0] = (0,0,0)\n",
    "    \n",
    "    dcnv[\"color\"] = np.zeros((dcnv.shape[0],))\n",
    "    sel_metasig = []\n",
    "    custom_lines = []\n",
    "    for metasig in cmetasigs:\n",
    "        cnv = high_cnv[metasig][gain_loss_map[gain_or_loss]]\n",
    "        if len(cnv)>0:\n",
    "            dcnv.loc[cnv.index,\"color\"] = metasig\n",
    "            sel_metasig.append(metasig)\n",
    "            custom_lines.append(Line2D([0], [0], color=colors[metasig], lw=4))\n",
    "\n",
    "    dcnv[\"color\"] = dcnv[\"color\"].apply(lambda x: colors[x])\n",
    "    \n",
    "    chromosome = pd.Series(dcnv.index.str.split(\":\").str[0])\n",
    "    positions = pd.Series(dcnv.index.str.split(\":\").str[1])\n",
    "    starts = positions.str.split(\"-\").str[0].astype(int)\n",
    "    ends = positions.str.split(\"-\").str[1].astype(int)\n",
    "    \n",
    "    df = pd.concat([chromosome, starts, ends, dcnv[\"color\"].reset_index(drop=True)],axis=1)\n",
    "    df.columns = [\"chrom\",\"start\",\"end\", \"colors\"]\n",
    "    \n",
    "    return df, sel_metasig, custom_lines\n",
    "\n",
    "def create_chrom_fig_info():\n",
    "\n",
    "    # Height of each ideogram\n",
    "    chrom_height = 1\n",
    "\n",
    "    # Spacing between consecutive ideograms\n",
    "    chrom_spacing = 1\n",
    "\n",
    "    # Height of the gene track. Should be smaller than `chrom_spacing` in order to\n",
    "    # fit correctly\n",
    "    gene_height = 0.4\n",
    "\n",
    "    # Padding between the top of a gene track and its corresponding ideogram\n",
    "    gene_padding = 0.1\n",
    "\n",
    "    # Decide which chromosomes to use\n",
    "    chromosome_list = ['chr%s' % i for i in list(range(1, 23))]\n",
    "\n",
    "    # Keep track of the y positions for ideograms and genes for each chromosome,\n",
    "    # and the center of each ideogram (which is where we'll put the ytick labels)\n",
    "    ybase = 0\n",
    "    chrom_ybase = {}\n",
    "    gene_ybase = {}\n",
    "    chrom_centers = {}\n",
    "\n",
    "    # Iterate in reverse so that items in the beginning of `chromosome_list` will\n",
    "    # appear at the top of the plot\n",
    "    for chrom in chromosome_list[::-1]:\n",
    "        chrom_ybase[chrom] = ybase\n",
    "        chrom_centers[chrom] = ybase + chrom_height / 2.\n",
    "        gene_ybase[chrom] = ybase - gene_height - gene_padding\n",
    "        ybase += chrom_height + chrom_spacing\n",
    "        \n",
    "    return chrom_ybase, chrom_height, chrom_centers, chromosome_list\n",
    "\n",
    "def create_chrom_fig(chrom_df: pd.DataFrame, \n",
    "                     sel_metasigs: np.ndarray, \n",
    "                     custom_lines: np.ndarray,\n",
    "                     n_plots: Tuple[int, int]= (1, 4),\n",
    "                     figsize: Tuple[int, int]=(20, 5)):\n",
    "    \n",
    "    fig, ax = plt.subplots(n_plots[0], n_plots[1], figsize=figsize)\n",
    "    flatax = ax.flatten()\n",
    "    \n",
    "    for i,k in enumerate(chrom_df):\n",
    "        for collection in chromosome_collections(chrom_df[k], chrom_ybase, chrom_height):\n",
    "            flatax[i].add_collection(collection)\n",
    "\n",
    "        flatax[i].set_yticks([chrom_centers[i] for i in chromosome_list])\n",
    "        flatax[i].set_yticklabels(chromosome_list)\n",
    "        flatax[i].axis('tight')\n",
    "        if len(sel_metasigs[k])>0:\n",
    "            flatax[i].legend(custom_lines[k], np.char.replace(sel_metasigs[k], \"metasig\", \"Meta-sig. \"), frameon=False, loc=\"right\")\n",
    "        flatax[i].spines.right.set_visible(False)\n",
    "        flatax[i].spines.top.set_visible(False)\n",
    "        flatax[i].set_title(k)\n",
    "    for j in range(len(chrom_df),len(flatax)):\n",
    "        flatax[j].axis(\"off\")\n",
    "        \n",
    "    return fig\n"
   ]
  },
  {
   "cell_type": "code",
   "execution_count": null,
   "id": "1b7558a6",
   "metadata": {},
   "outputs": [],
   "source": []
  },
  {
   "cell_type": "code",
   "execution_count": null,
   "id": "1f184a5d",
   "metadata": {},
   "outputs": [],
   "source": [
    "cancer_types = [\"crc\",\"crc_icms\",\"hgg\",\"gbm\",\"esophag\",\"scc_red\",\"breast\"]"
   ]
  },
  {
   "cell_type": "code",
   "execution_count": null,
   "id": "a4e38def",
   "metadata": {},
   "outputs": [],
   "source": [
    "basedir = pathlib.Path(\"/path/to/where/all/the/cansig/results/are\")"
   ]
  },
  {
   "cell_type": "code",
   "execution_count": null,
   "id": "5ca6ed77",
   "metadata": {},
   "outputs": [],
   "source": [
    "diffCNVs = {c: pd.read_csv(basedir / f\"{c}\"/\"metasignatures\" / \"diff-cnvs.csv\",index_col=0) for c in cancer_type}"
   ]
  },
  {
   "cell_type": "code",
   "execution_count": null,
   "id": "eb849bae",
   "metadata": {},
   "outputs": [],
   "source": [
    "metasigs = {}\n",
    "for c in cancer_type:\n",
    "    metasigs[c] = np.unique(diffCNVs[c].columns.str.split(\"_\").str[0])\n",
    "    metasigs[c] = np.setdiff1d(metasigs[c], [\"outlier\"])"
   ]
  },
  {
   "cell_type": "code",
   "execution_count": null,
   "id": "95156abd",
   "metadata": {},
   "outputs": [],
   "source": [
    "high_cnv_pc = {}\n",
    "for cancer in cancer_type:\n",
    "    high_cnv_pc[cancer] = get_high_cnv(diffCNVs[cancer], metasigs[cancer])"
   ]
  },
  {
   "cell_type": "code",
   "execution_count": null,
   "id": "3ac2e4e6",
   "metadata": {},
   "outputs": [],
   "source": [
    "unique_combinations = []\n",
    "cancer_type_mapping = {\"crc\": \"CRC\", \"crc_icms\": \"CRC/iCMS\", \n",
    "                       \"hgg\": \"HGG\", \"gbm\": \"GBM\", \"scc_red\": \"SCC\", \"breast\": \"BRCA\", \"esophag\": \"ESCC\"}\n",
    "for typ in [\"gain\",\"loss\"]:\n",
    "    unique_combinations += [cancer_type_mapping[s] + \" \" + typ for s in cancer_types]"
   ]
  },
  {
   "cell_type": "code",
   "execution_count": null,
   "id": "b0d739ff",
   "metadata": {},
   "outputs": [],
   "source": [
    "reverse_mapping = {v: k for k,v in cancer_type_mapping.items()}"
   ]
  },
  {
   "cell_type": "code",
   "execution_count": null,
   "id": "92b93c62",
   "metadata": {},
   "outputs": [],
   "source": [
    "chrom_dfs = {}\n",
    "for c in unique_combinations:\n",
    "    ct, cnvt = c.split(\" \")\n",
    "    cdf, sm, cl = get_chrom_df(cmetasigs = metasigs[reverse_mapping[ct]], diffCNV=diffCNVs[reverse_mapping[ct]], high_cnv=high_cnv_pc[reverse_mapping[ct]], gain_or_loss=cnvt)\n",
    "    chrom_dfs[c] = {\"chrom_df\": cdf, \"sel_metasigs\": sm, \"custom_lines\": cl}"
   ]
  },
  {
   "cell_type": "code",
   "execution_count": null,
   "id": "1d198510",
   "metadata": {},
   "outputs": [],
   "source": [
    "chrom_ybase, chrom_height, chrom_centers, chromosome_list = create_chrom_fig_info()"
   ]
  },
  {
   "cell_type": "code",
   "execution_count": null,
   "id": "6d592352",
   "metadata": {},
   "outputs": [],
   "source": [
    "gain_cdfs = {k: chrom_dfs[k][\"chrom_df\"] for k in chrom_dfs if \"gain\" in k}\n",
    "gain_sms = {k: chrom_dfs[k][\"sel_metasigs\"] for k in chrom_dfs if \"gain\" in k}\n",
    "gain_cls = {k: chrom_dfs[k][\"custom_lines\"] for k in chrom_dfs if \"gain\" in k}\n",
    "fig = create_chrom_fig(chrom_df=gain_cdfs, sel_metasigs=gain_sms, custom_lines=gain_cls, n_plots=(3,3), figsize=(15,12))\n",
    "fig.savefig(\"figures/diff_CNV_gain.svg\",bbox_inches=\"tight\")"
   ]
  },
  {
   "cell_type": "code",
   "execution_count": null,
   "id": "48f4e1fe",
   "metadata": {},
   "outputs": [],
   "source": [
    "loss_cdfs = {k: chrom_dfs[k][\"chrom_df\"] for k in chrom_dfs if \"loss\" in k}\n",
    "loss_sms = {k: chrom_dfs[k][\"sel_metasigs\"] for k in chrom_dfs if \"loss\" in k}\n",
    "loss_cls = {k: chrom_dfs[k][\"custom_lines\"] for k in chrom_dfs if \"loss\" in k}\n",
    "fig = create_chrom_fig(chrom_df=loss_cdfs, sel_metasigs=loss_sms, custom_lines=loss_cls, n_plots=(3,3), figsize=(15,12))\n",
    "fig.savefig(\"figures/diff_CNV_loss.svg\",bbox_inches=\"tight\")"
   ]
  },
  {
   "cell_type": "code",
   "execution_count": null,
   "id": "28ba9aac",
   "metadata": {},
   "outputs": [],
   "source": []
  }
 ],
 "metadata": {
  "kernelspec": {
   "display_name": "Python 3",
   "language": "python",
   "name": "python3"
  },
  "language_info": {
   "codemirror_mode": {
    "name": "ipython",
    "version": 3
   },
   "file_extension": ".py",
   "mimetype": "text/x-python",
   "name": "python",
   "nbconvert_exporter": "python",
   "pygments_lexer": "ipython3",
   "version": "3.8.8"
  }
 },
 "nbformat": 4,
 "nbformat_minor": 5
}
