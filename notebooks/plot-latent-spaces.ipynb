{
 "cells": [
  {
   "cell_type": "code",
   "execution_count": null,
   "id": "aa4c65a2",
   "metadata": {},
   "outputs": [],
   "source": [
    "import numpy as np \n",
    "import pandas as pd \n",
    "import scanpy as sc \n",
    "\n",
    "import cansig.plotting.plotting as plotting"
   ]
  },
  {
   "cell_type": "code",
   "execution_count": null,
   "id": "296f4a8f",
   "metadata": {},
   "outputs": [],
   "source": [
    "adata = sc.read_h5ad(\"/path/to/gbm/data\")\n",
    "\n",
    "latent_representations = pd.read_csv(\"path/to/latent/rep\",index_col=0,header=None)\n",
    "\n",
    "metamembership = pd.read_csv(\"path/to/cell/metamembership\",index_col=0)\n",
    "\n",
    "prob_metamembership = pd.read_csv(\"/path/to/prob/cell/metamembership\",index_col=0)\n",
    "\n",
    "adata_copy = adata.copy()\n",
    "adata_copy = adata_copy[prob_metamembership.index, :].copy()\n",
    "adata_copy.obs = pd.concat([adata_copy.obs, prob_metamembership], axis=1, join=\"inner\")\n",
    "adata_copy.obs = pd.concat([adata_copy.obs, metamembership.astype(\"category\")], axis=1, join=\"inner\")"
   ]
  },
  {
   "cell_type": "code",
   "execution_count": null,
   "id": "494d5c89",
   "metadata": {},
   "outputs": [],
   "source": [
    "plotting_config = plotting.ScatterPlotConfig(\n",
    "    dim_reduction=\"both\",\n",
    "    signature_columns=list(metamembership.columns),\n",
    "    batch_column=\"sample_id\",\n",
    "    ncols=2,\n",
    ")\n",
    "\n",
    "scatter = plotting.ScatterPlot(plotting_config)\n",
    "fig = scatter.plot_scatter(adata=adata_copy, representations=latent_representations)"
   ]
  },
  {
   "cell_type": "code",
   "execution_count": null,
   "id": "c322f61e",
   "metadata": {},
   "outputs": [],
   "source": [
    "fig.savefig(\"figures/gbm_latent_space.png\",dpi=200,bbox_inches=\"tight\")"
   ]
  },
  {
   "cell_type": "code",
   "execution_count": null,
   "id": "ade6337c",
   "metadata": {},
   "outputs": [],
   "source": [
    "plotting_config = plotting.ScatterPlotConfig(\n",
    "    dim_reduction=\"both\",\n",
    "    signature_columns=list(metamembership.columns) + list(prob_metamembership.columns),\n",
    "    batch_column=\"sample_id\",\n",
    "    ncols=2,\n",
    ")\n",
    "\n",
    "scatter = plotting.ScatterPlot(plotting_config)\n",
    "fig = scatter.plot_scatter(adata=adata_copy, representations=latent_representations)"
   ]
  },
  {
   "cell_type": "code",
   "execution_count": null,
   "id": "df5eed76",
   "metadata": {},
   "outputs": [],
   "source": [
    "fig.savefig(\"figures/gbm_latent_space_full.png\",dpi=200,bbox_inches=\"tight\")"
   ]
  },
  {
   "cell_type": "markdown",
   "id": "39afa7e3",
   "metadata": {},
   "source": [
    "# Simulated"
   ]
  },
  {
   "cell_type": "code",
   "execution_count": null,
   "id": "6e69a495",
   "metadata": {},
   "outputs": [],
   "source": [
    "adata = sc.read_h5ad(\"/path/to/simulated/data\")"
   ]
  },
  {
   "cell_type": "code",
   "execution_count": null,
   "id": "c70e9f0f",
   "metadata": {},
   "outputs": [],
   "source": [
    "sc.pp.normalize_total(adata, target_sum=10000)\n",
    "sc.pp.log1p(adata)\n",
    "sc.pp.neighbors(adata)\n",
    "sc.tl.umap(adata)"
   ]
  },
  {
   "cell_type": "code",
   "execution_count": null,
   "id": "8d4d6664",
   "metadata": {},
   "outputs": [],
   "source": [
    "adata.obs[\"program\"] = adata.obs[\"program\"].replace({\"program1\": \"State 1\", \"program2\": \"State 2\", \"program3\": \"State 3\"})"
   ]
  },
  {
   "cell_type": "code",
   "execution_count": null,
   "id": "577bb4b6",
   "metadata": {},
   "outputs": [],
   "source": [
    "fig = sc.pl.umap(adata, color=[\"program\",\"sample_id\"],wspace=.25, return_fig=True)"
   ]
  },
  {
   "cell_type": "code",
   "execution_count": null,
   "id": "ffb18868",
   "metadata": {},
   "outputs": [],
   "source": [
    "for ax in fig.axes:\n",
    "    ax.spines.right.set_visible(False)\n",
    "    ax.spines.top.set_visible(False)"
   ]
  },
  {
   "cell_type": "code",
   "execution_count": null,
   "id": "09f99262",
   "metadata": {},
   "outputs": [],
   "source": [
    "fig.savefig(\"figures/simulated_be_1_umap.png\",dpi=200,bbox_inches=\"tight\")"
   ]
  },
  {
   "cell_type": "code",
   "execution_count": null,
   "id": "52d6653b",
   "metadata": {},
   "outputs": [],
   "source": []
  }
 ],
 "metadata": {
  "kernelspec": {
   "display_name": "Python 3",
   "language": "python",
   "name": "python3"
  },
  "language_info": {
   "codemirror_mode": {
    "name": "ipython",
    "version": 3
   },
   "file_extension": ".py",
   "mimetype": "text/x-python",
   "name": "python",
   "nbconvert_exporter": "python",
   "pygments_lexer": "ipython3",
   "version": "3.8.8"
  }
 },
 "nbformat": 4,
 "nbformat_minor": 5
}
