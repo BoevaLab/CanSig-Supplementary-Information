{
 "cells": [
  {
   "cell_type": "code",
   "execution_count": null,
   "id": "294b1e4a",
   "metadata": {},
   "outputs": [],
   "source": [
    "import numpy as np\n",
    "import pandas as pd\n",
    "import pathlib as pl\n",
    "import scanpy as sc\n",
    "import seaborn as sns"
   ]
  },
  {
   "cell_type": "code",
   "execution_count": null,
   "id": "4de79dde",
   "metadata": {},
   "outputs": [],
   "source": []
  },
  {
   "cell_type": "code",
   "execution_count": null,
   "id": "ba7f9a13",
   "metadata": {},
   "outputs": [],
   "source": [
    "def score_sig(adata, signature, score_name):    \n",
    "    adata.layers[\"counts\"] = adata.X.copy()\n",
    "    sc.pp.normalize_total(adata, target_sum=10000)\n",
    "    sc.pp.log1p(adata)\n",
    "    sc.tl.score_genes(adata, gene_list=signature, score_name=score_name)\n",
    "    adata.X = adata.layers[\"counts\"]\n",
    "    del adata.uns[\"log1p\"]\n",
    "    \n",
    "    return adata"
   ]
  },
  {
   "cell_type": "code",
   "execution_count": null,
   "id": "ecc87870",
   "metadata": {},
   "outputs": [],
   "source": [
    "def get_clustermap_stability(basedir_1, basedir_2, basedir_full, data_path):\n",
    "    metasignatures = {}\n",
    "    for f in basedir_1.iterdir():\n",
    "        name = f.stem + \"_split1\"\n",
    "        metasignatures[name] = pd.read_csv(f, index_col=0)\n",
    "    for f in basedir_2.iterdir():\n",
    "        name = f.stem + \"_split2\"\n",
    "        metasignatures[name] = pd.read_csv(f, index_col=0)\n",
    "    for f in basedir_full.iterdir():\n",
    "        name = f.stem + \"_full\"\n",
    "        metasignatures[name] = pd.read_csv(f, index_col=0)\n",
    "    \n",
    "    adata = sc.read_h5ad(data_path)\n",
    "    for sig in metasignatures:\n",
    "        adata = score_sig(adata, metasignatures[sig].values.ravel()[:50], score_name=sig)\n",
    "        \n",
    "    df_corr = adata.obs[list(metasignatures.keys())].corr()\n",
    "    \n",
    "    labels = df_corr.index.to_frame()\n",
    "    labels.columns = [\"Split\"]\n",
    "    labels[\"Split\"] = labels[\"Split\"].apply(lambda x: \"green\" if \"split1\" in x else (\"tab:orange\" if \"split2\"  in x else \"purple\"))\n",
    "    \n",
    "    annot = df_corr.applymap(lambda x: np.nan if x is x<0.65 else x).round(2)\n",
    "    annot = annot.fillna(\"\").astype(str)\n",
    "\n",
    "    g = sns.clustermap(df_corr, cmap=\"vlag\", row_colors=labels,annot=annot,fmt = '')\n",
    "    return g"
   ]
  },
  {
   "cell_type": "code",
   "execution_count": null,
   "id": "a464065b",
   "metadata": {},
   "outputs": [],
   "source": [
    "basedir_1 = pl.Path(\"/path/to/metasignatures/split1\")\n",
    "basedir_2 = pl.Path(\"/path/to/metasignatures/split2\")\n",
    "basedir_full = pl.Path(\"/path/to/metasignatures/full\")\n",
    "data_path = pl.Path(\"path/to/data\")"
   ]
  },
  {
   "cell_type": "code",
   "execution_count": null,
   "id": "11d46d08",
   "metadata": {
    "scrolled": false
   },
   "outputs": [],
   "source": [
    "g_esophag = get_clustermap_stability(basedir_1=basedir_1, basedir_2=basedir_2, basedir_full=basedir_full, data_path=data_path)"
   ]
  },
  {
   "cell_type": "code",
   "execution_count": null,
   "id": "6dd7f1e6",
   "metadata": {},
   "outputs": [],
   "source": [
    "g_esophag.figure.savefig(\"figures/stability_esophag.svg\",bbox_inches=\"tight\")"
   ]
  },
  {
   "cell_type": "markdown",
   "id": "101c1dd7",
   "metadata": {},
   "source": [
    "# Comparing stability across datasets"
   ]
  },
  {
   "cell_type": "code",
   "execution_count": null,
   "id": "c485ce0b",
   "metadata": {},
   "outputs": [],
   "source": [
    "basedir_1 = pl.Path(\"/path/to/signatures/crc\")\n",
    "basedir_2 = pl.Path(\"/path/to/signatures/crc_icms\")\n",
    "data_path_1 = pl.Path(\"/path/to/crc/data\")\n",
    "data_path_2 = pl.Path(\"/path/to/crc_icms/data\")"
   ]
  },
  {
   "cell_type": "code",
   "execution_count": null,
   "id": "ef904de8",
   "metadata": {
    "scrolled": false
   },
   "outputs": [],
   "source": [
    "metasignatures = {}\n",
    "for f in basedir_1.iterdir():\n",
    "    name = f.stem + \"_crc\"\n",
    "    metasignatures[name] = pd.read_csv(f, index_col=0)\n",
    "for f in basedir_2.iterdir():\n",
    "    name = f.stem + \"_crc_icms\"\n",
    "    metasignatures[name] = pd.read_csv(f, index_col=0)\n",
    "    \n",
    "adata = sc.read_h5ad(data_path_1)\n",
    "for sig in metasignatures:\n",
    "    adata = score_sig(adata, metasignatures[sig].values.ravel()[:50], score_name=sig)\n",
    "\n",
    "df_corr = adata.obs[list(metasignatures.keys())].corr()\n",
    "    \n",
    "labels = df_corr.index.to_frame()\n",
    "labels.columns = [\"Dataset\"]\n",
    "labels[\"Dataset\"] = labels[\"Dataset\"].apply(lambda x: \"green\" if \"crc_icms\" in x else \"tab:orange\")\n",
    "\n",
    "annot = df_corr.applymap(lambda x: np.nan if x is x<0.65 else x).round(2)\n",
    "annot = annot.fillna(\"\").astype(str)\n",
    "\n",
    "g1 = sns.clustermap(df_corr, cmap=\"vlag\", row_colors=labels,annot=annot,fmt = '')"
   ]
  },
  {
   "cell_type": "code",
   "execution_count": null,
   "id": "93d12529",
   "metadata": {},
   "outputs": [],
   "source": [
    "g1.figure.savefig(\"figures/stability_crc_vs_icms_scored_crc.svg\",bbox_inches=\"tight\")"
   ]
  },
  {
   "cell_type": "code",
   "execution_count": null,
   "id": "eba2b070",
   "metadata": {
    "scrolled": false
   },
   "outputs": [],
   "source": [
    "adata = sc.read_h5ad(data_path_2)\n",
    "for sig in metasignatures:\n",
    "    adata = score_sig(adata, metasignatures[sig].values.ravel()[:50], score_name=sig)\n",
    "\n",
    "df_corr = adata.obs[list(metasignatures.keys())].corr()\n",
    "    \n",
    "labels = df_corr.index.to_frame()\n",
    "labels.columns = [\"Dataset\"]\n",
    "labels[\"Dataset\"] = labels[\"Dataset\"].apply(lambda x: \"green\" if \"crc_icms\" in x else \"tab:orange\")\n",
    "\n",
    "annot = df_corr.applymap(lambda x: np.nan if x is x<0.65 else x).round(2)\n",
    "annot = annot.fillna(\"\").astype(str)\n",
    "\n",
    "g2 = sns.clustermap(df_corr, cmap=\"vlag\", row_colors=labels,annot=annot,fmt = '')"
   ]
  },
  {
   "cell_type": "code",
   "execution_count": null,
   "id": "e81cac94",
   "metadata": {},
   "outputs": [],
   "source": [
    "g2.figure.savefig(\"figures/stability_crc_vs_icms_scored_icms.svg\",bbox_inches=\"tight\")"
   ]
  },
  {
   "cell_type": "code",
   "execution_count": null,
   "id": "d3a80776",
   "metadata": {},
   "outputs": [],
   "source": []
  },
  {
   "cell_type": "code",
   "execution_count": null,
   "id": "2bc389c1",
   "metadata": {},
   "outputs": [],
   "source": [
    "basedir_1 = pl.Path(\"/path/to/gbm/signatures\")\n",
    "basedir_2 = pl.Path(\"/path/to/hgg/signatures\")\n",
    "data_path_1 = pl.Path(\"/path/to/hgg/data\")\n",
    "data_path_2 = pl.Path(\"/path/to/gbm/data\")"
   ]
  },
  {
   "cell_type": "code",
   "execution_count": null,
   "id": "e5fdf3df",
   "metadata": {
    "scrolled": true
   },
   "outputs": [],
   "source": [
    "metasignatures = {}\n",
    "for f in basedir_1.iterdir():\n",
    "    name = f.stem + \"_gbm\"\n",
    "    metasignatures[name] = pd.read_csv(f, index_col=0)\n",
    "for f in basedir_2.iterdir():\n",
    "    name = f.stem + \"_hgg\"\n",
    "    metasignatures[name] = pd.read_csv(f, index_col=0)\n",
    "    \n",
    "adata = sc.read_h5ad(data_path_1)\n",
    "for sig in metasignatures:\n",
    "    adata = score_sig(adata, metasignatures[sig].values.ravel()[:50], score_name=sig)\n",
    "\n",
    "df_corr = adata.obs[list(metasignatures.keys())].corr()\n",
    "    \n",
    "labels = df_corr.index.to_frame()\n",
    "labels.columns = [\"Dataset\"]\n",
    "labels[\"Dataset\"] = labels[\"Dataset\"].apply(lambda x: \"green\" if \"gbm\" in x else \"tab:orange\")\n",
    "\n",
    "annot = df_corr.applymap(lambda x: np.nan if x is x<0.65 else x).round(2)\n",
    "annot = annot.fillna(\"\").astype(str)\n",
    "\n",
    "g1 = sns.clustermap(df_corr, cmap=\"vlag\", row_colors=labels,annot=annot,fmt = '')"
   ]
  },
  {
   "cell_type": "code",
   "execution_count": null,
   "id": "b02758c6",
   "metadata": {},
   "outputs": [],
   "source": [
    "g1.figure.savefig(\"figures/stability_gbm_vs_hgg_scored_hgg.svg\",bbox_inches=\"tight\")"
   ]
  },
  {
   "cell_type": "code",
   "execution_count": null,
   "id": "80bb0a37",
   "metadata": {
    "scrolled": true
   },
   "outputs": [],
   "source": [
    "adata = sc.read_h5ad(data_path_2)\n",
    "for sig in metasignatures:\n",
    "    adata = score_sig(adata, metasignatures[sig].values.ravel()[:50], score_name=sig)\n",
    "\n",
    "df_corr = adata.obs[list(metasignatures.keys())].corr()\n",
    "    \n",
    "labels = df_corr.index.to_frame()\n",
    "labels.columns = [\"Dataset\"]\n",
    "labels[\"Dataset\"] = labels[\"Dataset\"].apply(lambda x: \"green\" if \"gbm\" in x else \"tab:orange\")\n",
    "\n",
    "annot = df_corr.applymap(lambda x: np.nan if x is x<0.65 else x).round(2)\n",
    "annot = annot.fillna(\"\").astype(str)\n",
    "\n",
    "g2 = sns.clustermap(df_corr, cmap=\"vlag\", row_colors=labels,annot=annot,fmt = '')"
   ]
  },
  {
   "cell_type": "code",
   "execution_count": null,
   "id": "83a662b8",
   "metadata": {},
   "outputs": [],
   "source": [
    "g2.figure.savefig(\"figures/stability_gbm_vs_hgg_scored_gbm.svg\",bbox_inches=\"tight\")"
   ]
  },
  {
   "cell_type": "code",
   "execution_count": null,
   "id": "ae17cd1e",
   "metadata": {},
   "outputs": [],
   "source": []
  },
  {
   "cell_type": "markdown",
   "id": "dfa14eaf",
   "metadata": {},
   "source": [
    "# Comparing stability across datasets - Neftel"
   ]
  },
  {
   "cell_type": "code",
   "execution_count": null,
   "id": "120a07e0",
   "metadata": {},
   "outputs": [],
   "source": [
    "basedir_1 = pl.Path(\"/neftel/results/hgg\")\n",
    "data_path_1 = pl.Path(\"/path/to/hgg/data\")"
   ]
  },
  {
   "cell_type": "code",
   "execution_count": null,
   "id": "a3511633",
   "metadata": {},
   "outputs": [],
   "source": [
    "def rename_gbm_score(adata):\n",
    "    adata.obs[\"MESlike\"] = adata.obs[['mesenchymal1_score', 'mesenchymal2_score']].max(1)\n",
    "    adata.obs[\"NPClike\"] = adata.obs[['neural_precursor1_score', 'neural_precursor2_score']].max(1)\n",
    "\n",
    "    adata.obs.rename(columns={\"oligodendrocytic_precursor_score\": \"OPClike\",\n",
    "                              \"astrocyte_score\": \"AClike\"},\n",
    "                              inplace=True)\n",
    "    return adata"
   ]
  },
  {
   "cell_type": "code",
   "execution_count": null,
   "id": "d580fa99",
   "metadata": {
    "scrolled": false
   },
   "outputs": [],
   "source": [
    "metasignatures = {}\n",
    "for f in basedir_1.iterdir():\n",
    "    name = f.stem + \"_hgg\"\n",
    "    metasignatures[name] = pd.read_csv(f, index_col=0)\n",
    "    \n",
    "adata = sc.read_h5ad(data_path_1)\n",
    "for sig in metasignatures:\n",
    "    adata = score_sig(adata, metasignatures[sig].values.ravel()[:50], score_name=sig)\n",
    "    \n",
    "adata = rename_gbm_score(adata)"
   ]
  },
  {
   "cell_type": "code",
   "execution_count": null,
   "id": "161613ea",
   "metadata": {},
   "outputs": [],
   "source": [
    "adata.obs= adata.obs.rename(columns={\"AClike\": \"metaprogram1_gbm\",\"OPClike\": \"metaprogram2_gbm\",\n",
    "                          \"NPClike\": \"metaprogram3_gbm\",\"MESlike\": \"metaprogram4_gbm\"})"
   ]
  },
  {
   "cell_type": "code",
   "execution_count": null,
   "id": "b3b6822e",
   "metadata": {},
   "outputs": [],
   "source": [
    "metaprograms_gbm = [f\"metaprogram{i+1}_gbm\" for i in range(4)]\n",
    "df_corr = adata.obs[list(metasignatures.keys())+metaprograms_gbm].corr()"
   ]
  },
  {
   "cell_type": "code",
   "execution_count": null,
   "id": "8bf43b96",
   "metadata": {},
   "outputs": [],
   "source": [
    "labels = df_corr.index.to_frame()\n",
    "labels.columns = [\"Dataset\"]\n",
    "labels[\"Dataset\"] = labels[\"Dataset\"].apply(lambda x: \"green\" if \"gbm\" in x else \"tab:orange\")\n",
    "\n",
    "annot = df_corr.applymap(lambda x: np.nan if x is x<0.65 else x).round(2)\n",
    "annot = annot.fillna(\"\").astype(str)\n",
    "\n",
    "g1 = sns.clustermap(df_corr, cmap=\"vlag\", row_colors=labels,annot=annot,fmt = '')"
   ]
  },
  {
   "cell_type": "code",
   "execution_count": null,
   "id": "bec91f78",
   "metadata": {},
   "outputs": [],
   "source": [
    "g1.figure.savefig(\"figures/stability_gbm_vs_hgg_scored_hgg_neftel.svg\",bbox_inches=\"tight\")"
   ]
  },
  {
   "cell_type": "code",
   "execution_count": null,
   "id": "24b2c9f5",
   "metadata": {},
   "outputs": [],
   "source": [
    "basedir_1 = pl.Path(\"/path/to/neftel/results/crc\")\n",
    "data_path_1 = pl.Path(\"/path/to/crc_icms/\")"
   ]
  },
  {
   "cell_type": "code",
   "execution_count": null,
   "id": "631422e4",
   "metadata": {},
   "outputs": [],
   "source": [
    "metasignatures = {}\n",
    "for mprog in [f\"metaprogram{i+1}\" for i in range(5)]:\n",
    "    name = mprog + \"_crc\"\n",
    "    metasignatures[name] = pd.read_csv(basedir_1 / f\"crc{mprog}.csv\", index_col=0)\n",
    "for mprog in [f\"metaprogram{i+1}\" for i in range(5)]:\n",
    "    name = mprog + \"_crc_icms\"\n",
    "    metasignatures[name] = pd.read_csv(basedir_1 / f\"crc_icms{mprog}.csv\", index_col=0)\n",
    "    \n",
    "adata = sc.read_h5ad(data_path_1)\n",
    "for sig in metasignatures:\n",
    "    adata = score_sig(adata, metasignatures[sig].values.ravel()[:50], score_name=sig)\n",
    "\n",
    "df_corr = adata.obs[list(metasignatures.keys())].corr()\n",
    "    \n",
    "labels = df_corr.index.to_frame()\n",
    "labels.columns = [\"Dataset\"]\n",
    "labels[\"Dataset\"] = labels[\"Dataset\"].apply(lambda x: \"green\" if \"crc_icms\" in x else \"tab:orange\")\n",
    "\n",
    "annot = df_corr.applymap(lambda x: np.nan if x is x<0.65 else x).round(2)\n",
    "annot = annot.fillna(\"\").astype(str)\n",
    "\n",
    "g1 = sns.clustermap(df_corr, cmap=\"vlag\", row_colors=labels,annot=annot,fmt = '')"
   ]
  },
  {
   "cell_type": "code",
   "execution_count": null,
   "id": "cb9234ff",
   "metadata": {},
   "outputs": [],
   "source": [
    "g1.figure.savefig(\"figures/stability_crc_vs_crc_icms_scored_crc_icms_neftel.svg\",bbox_inches=\"tight\")"
   ]
  },
  {
   "cell_type": "code",
   "execution_count": null,
   "id": "83ac70e0",
   "metadata": {},
   "outputs": [],
   "source": []
  },
  {
   "cell_type": "code",
   "execution_count": null,
   "id": "aa91d53a",
   "metadata": {},
   "outputs": [],
   "source": []
  }
 ],
 "metadata": {
  "kernelspec": {
   "display_name": "Python 3",
   "language": "python",
   "name": "python3"
  },
  "language_info": {
   "codemirror_mode": {
    "name": "ipython",
    "version": 3
   },
   "file_extension": ".py",
   "mimetype": "text/x-python",
   "name": "python",
   "nbconvert_exporter": "python",
   "pygments_lexer": "ipython3",
   "version": "3.8.8"
  }
 },
 "nbformat": 4,
 "nbformat_minor": 5
}
