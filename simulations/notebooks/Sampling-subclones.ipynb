{
 "cells": [
  {
   "cell_type": "markdown",
   "id": "9706c3f9",
   "metadata": {},
   "source": [
    "# Sampling subclones\n",
    "\n",
    "This notebook illustrates how to use the utilities related to sampling CNV profiles.\n",
    "\n",
    "## Loading some data\n",
    "First, let's load some data"
   ]
  },
  {
   "cell_type": "code",
   "execution_count": 1,
   "id": "e1ba35b1",
   "metadata": {},
   "outputs": [
    {
     "name": "stderr",
     "output_type": "stream",
     "text": [
      "Global seed set to 0\n"
     ]
    },
    {
     "ename": "AnnDataReadError",
     "evalue": "Above error raised while reading key '/layers' of type <class 'h5py._hl.group.Group'> from /.",
     "output_type": "error",
     "traceback": [
      "\u001b[0;31m---------------------------------------------------------------------------\u001b[0m",
      "\u001b[0;31mKeyError\u001b[0m                                  Traceback (most recent call last)",
      "\u001b[0;32m~/opt/anaconda3/lib/python3.8/site-packages/anndata/_io/utils.py\u001b[0m in \u001b[0;36mfunc_wrapper\u001b[0;34m(elem, *args, **kwargs)\u001b[0m\n\u001b[1;32m    176\u001b[0m         \u001b[0;32mtry\u001b[0m\u001b[0;34m:\u001b[0m\u001b[0;34m\u001b[0m\u001b[0;34m\u001b[0m\u001b[0m\n\u001b[0;32m--> 177\u001b[0;31m             \u001b[0;32mreturn\u001b[0m \u001b[0mfunc\u001b[0m\u001b[0;34m(\u001b[0m\u001b[0melem\u001b[0m\u001b[0;34m,\u001b[0m \u001b[0;34m*\u001b[0m\u001b[0margs\u001b[0m\u001b[0;34m,\u001b[0m \u001b[0;34m**\u001b[0m\u001b[0mkwargs\u001b[0m\u001b[0;34m)\u001b[0m\u001b[0;34m\u001b[0m\u001b[0;34m\u001b[0m\u001b[0m\n\u001b[0m\u001b[1;32m    178\u001b[0m         \u001b[0;32mexcept\u001b[0m \u001b[0mException\u001b[0m \u001b[0;32mas\u001b[0m \u001b[0me\u001b[0m\u001b[0;34m:\u001b[0m\u001b[0;34m\u001b[0m\u001b[0;34m\u001b[0m\u001b[0m\n",
      "\u001b[0;32m~/opt/anaconda3/lib/python3.8/site-packages/anndata/_io/h5ad.py\u001b[0m in \u001b[0;36mread_group\u001b[0;34m(group)\u001b[0m\n\u001b[1;32m    526\u001b[0m     \u001b[0;32mif\u001b[0m \u001b[0mencoding_type\u001b[0m\u001b[0;34m:\u001b[0m\u001b[0;34m\u001b[0m\u001b[0;34m\u001b[0m\u001b[0m\n\u001b[0;32m--> 527\u001b[0;31m         EncodingVersions[encoding_type].check(\n\u001b[0m\u001b[1;32m    528\u001b[0m             \u001b[0mgroup\u001b[0m\u001b[0;34m.\u001b[0m\u001b[0mname\u001b[0m\u001b[0;34m,\u001b[0m \u001b[0mgroup\u001b[0m\u001b[0;34m.\u001b[0m\u001b[0mattrs\u001b[0m\u001b[0;34m[\u001b[0m\u001b[0;34m\"encoding-version\"\u001b[0m\u001b[0;34m]\u001b[0m\u001b[0;34m\u001b[0m\u001b[0;34m\u001b[0m\u001b[0m\n",
      "\u001b[0;32m~/opt/anaconda3/lib/python3.8/enum.py\u001b[0m in \u001b[0;36m__getitem__\u001b[0;34m(cls, name)\u001b[0m\n\u001b[1;32m    386\u001b[0m     \u001b[0;32mdef\u001b[0m \u001b[0m__getitem__\u001b[0m\u001b[0;34m(\u001b[0m\u001b[0mcls\u001b[0m\u001b[0;34m,\u001b[0m \u001b[0mname\u001b[0m\u001b[0;34m)\u001b[0m\u001b[0;34m:\u001b[0m\u001b[0;34m\u001b[0m\u001b[0;34m\u001b[0m\u001b[0m\n\u001b[0;32m--> 387\u001b[0;31m         \u001b[0;32mreturn\u001b[0m \u001b[0mcls\u001b[0m\u001b[0;34m.\u001b[0m\u001b[0m_member_map_\u001b[0m\u001b[0;34m[\u001b[0m\u001b[0mname\u001b[0m\u001b[0;34m]\u001b[0m\u001b[0;34m\u001b[0m\u001b[0;34m\u001b[0m\u001b[0m\n\u001b[0m\u001b[1;32m    388\u001b[0m \u001b[0;34m\u001b[0m\u001b[0m\n",
      "\u001b[0;31mKeyError\u001b[0m: 'dict'",
      "\nDuring handling of the above exception, another exception occurred:\n",
      "\u001b[0;31mAnnDataReadError\u001b[0m                          Traceback (most recent call last)",
      "\u001b[0;32m<ipython-input-1-bd12b10a2373>\u001b[0m in \u001b[0;36m<module>\u001b[0;34m\u001b[0m\n\u001b[1;32m      6\u001b[0m \u001b[0;34m\u001b[0m\u001b[0m\n\u001b[1;32m      7\u001b[0m \u001b[0;34m\u001b[0m\u001b[0m\n\u001b[0;32m----> 8\u001b[0;31m \u001b[0madata\u001b[0m \u001b[0;34m=\u001b[0m \u001b[0mad\u001b[0m\u001b[0;34m.\u001b[0m\u001b[0mread_h5ad\u001b[0m\u001b[0;34m(\u001b[0m\u001b[0mDATA_PATH\u001b[0m \u001b[0;34m/\u001b[0m \u001b[0;34m\"non_malignant.h5ad\"\u001b[0m\u001b[0;34m)\u001b[0m\u001b[0;34m\u001b[0m\u001b[0;34m\u001b[0m\u001b[0m\n\u001b[0m\u001b[1;32m      9\u001b[0m \u001b[0madata\u001b[0m \u001b[0;34m=\u001b[0m \u001b[0madata\u001b[0m\u001b[0;34m[\u001b[0m\u001b[0;34m(\u001b[0m\u001b[0madata\u001b[0m\u001b[0;34m.\u001b[0m\u001b[0mobs\u001b[0m\u001b[0;34m[\u001b[0m\u001b[0;34m\"celltype\"\u001b[0m\u001b[0;34m]\u001b[0m \u001b[0;34m==\u001b[0m \u001b[0;34m\"Tcells\"\u001b[0m\u001b[0;34m)\u001b[0m \u001b[0;34m|\u001b[0m \u001b[0;34m(\u001b[0m\u001b[0madata\u001b[0m\u001b[0;34m.\u001b[0m\u001b[0mobs\u001b[0m\u001b[0;34m[\u001b[0m\u001b[0;34m\"celltype\"\u001b[0m\u001b[0;34m]\u001b[0m \u001b[0;34m==\u001b[0m \u001b[0;34m\"Bcells\"\u001b[0m\u001b[0;34m)\u001b[0m\u001b[0;34m]\u001b[0m\u001b[0;34m.\u001b[0m\u001b[0mcopy\u001b[0m\u001b[0;34m(\u001b[0m\u001b[0;34m)\u001b[0m\u001b[0;34m\u001b[0m\u001b[0;34m\u001b[0m\u001b[0m\n",
      "\u001b[0;32m~/opt/anaconda3/lib/python3.8/site-packages/anndata/_io/h5ad.py\u001b[0m in \u001b[0;36mread_h5ad\u001b[0;34m(filename, backed, as_sparse, as_sparse_fmt, chunk_size)\u001b[0m\n\u001b[1;32m    419\u001b[0m                 \u001b[0md\u001b[0m\u001b[0;34m[\u001b[0m\u001b[0mk\u001b[0m\u001b[0;34m]\u001b[0m \u001b[0;34m=\u001b[0m \u001b[0mread_dataframe\u001b[0m\u001b[0;34m(\u001b[0m\u001b[0mf\u001b[0m\u001b[0;34m[\u001b[0m\u001b[0mk\u001b[0m\u001b[0;34m]\u001b[0m\u001b[0;34m)\u001b[0m\u001b[0;34m\u001b[0m\u001b[0;34m\u001b[0m\u001b[0m\n\u001b[1;32m    420\u001b[0m             \u001b[0;32melse\u001b[0m\u001b[0;34m:\u001b[0m  \u001b[0;31m# Base case\u001b[0m\u001b[0;34m\u001b[0m\u001b[0;34m\u001b[0m\u001b[0m\n\u001b[0;32m--> 421\u001b[0;31m                 \u001b[0md\u001b[0m\u001b[0;34m[\u001b[0m\u001b[0mk\u001b[0m\u001b[0;34m]\u001b[0m \u001b[0;34m=\u001b[0m \u001b[0mread_attribute\u001b[0m\u001b[0;34m(\u001b[0m\u001b[0mf\u001b[0m\u001b[0;34m[\u001b[0m\u001b[0mk\u001b[0m\u001b[0;34m]\u001b[0m\u001b[0;34m)\u001b[0m\u001b[0;34m\u001b[0m\u001b[0;34m\u001b[0m\u001b[0m\n\u001b[0m\u001b[1;32m    422\u001b[0m \u001b[0;34m\u001b[0m\u001b[0m\n\u001b[1;32m    423\u001b[0m         \u001b[0md\u001b[0m\u001b[0;34m[\u001b[0m\u001b[0;34m\"raw\"\u001b[0m\u001b[0;34m]\u001b[0m \u001b[0;34m=\u001b[0m \u001b[0m_read_raw\u001b[0m\u001b[0;34m(\u001b[0m\u001b[0mf\u001b[0m\u001b[0;34m,\u001b[0m \u001b[0mas_sparse\u001b[0m\u001b[0;34m,\u001b[0m \u001b[0mrdasp\u001b[0m\u001b[0;34m)\u001b[0m\u001b[0;34m\u001b[0m\u001b[0;34m\u001b[0m\u001b[0m\n",
      "\u001b[0;32m~/opt/anaconda3/lib/python3.8/functools.py\u001b[0m in \u001b[0;36mwrapper\u001b[0;34m(*args, **kw)\u001b[0m\n\u001b[1;32m    873\u001b[0m                             '1 positional argument')\n\u001b[1;32m    874\u001b[0m \u001b[0;34m\u001b[0m\u001b[0m\n\u001b[0;32m--> 875\u001b[0;31m         \u001b[0;32mreturn\u001b[0m \u001b[0mdispatch\u001b[0m\u001b[0;34m(\u001b[0m\u001b[0margs\u001b[0m\u001b[0;34m[\u001b[0m\u001b[0;36m0\u001b[0m\u001b[0;34m]\u001b[0m\u001b[0;34m.\u001b[0m\u001b[0m__class__\u001b[0m\u001b[0;34m)\u001b[0m\u001b[0;34m(\u001b[0m\u001b[0;34m*\u001b[0m\u001b[0margs\u001b[0m\u001b[0;34m,\u001b[0m \u001b[0;34m**\u001b[0m\u001b[0mkw\u001b[0m\u001b[0;34m)\u001b[0m\u001b[0;34m\u001b[0m\u001b[0;34m\u001b[0m\u001b[0m\n\u001b[0m\u001b[1;32m    876\u001b[0m \u001b[0;34m\u001b[0m\u001b[0m\n\u001b[1;32m    877\u001b[0m     \u001b[0mfuncname\u001b[0m \u001b[0;34m=\u001b[0m \u001b[0mgetattr\u001b[0m\u001b[0;34m(\u001b[0m\u001b[0mfunc\u001b[0m\u001b[0;34m,\u001b[0m \u001b[0;34m'__name__'\u001b[0m\u001b[0;34m,\u001b[0m \u001b[0;34m'singledispatch function'\u001b[0m\u001b[0;34m)\u001b[0m\u001b[0;34m\u001b[0m\u001b[0;34m\u001b[0m\u001b[0m\n",
      "\u001b[0;32m~/opt/anaconda3/lib/python3.8/site-packages/anndata/_io/utils.py\u001b[0m in \u001b[0;36mfunc_wrapper\u001b[0;34m(elem, *args, **kwargs)\u001b[0m\n\u001b[1;32m    181\u001b[0m             \u001b[0;32melse\u001b[0m\u001b[0;34m:\u001b[0m\u001b[0;34m\u001b[0m\u001b[0;34m\u001b[0m\u001b[0m\n\u001b[1;32m    182\u001b[0m                 \u001b[0mparent\u001b[0m \u001b[0;34m=\u001b[0m \u001b[0m_get_parent\u001b[0m\u001b[0;34m(\u001b[0m\u001b[0melem\u001b[0m\u001b[0;34m)\u001b[0m\u001b[0;34m\u001b[0m\u001b[0;34m\u001b[0m\u001b[0m\n\u001b[0;32m--> 183\u001b[0;31m                 raise AnnDataReadError(\n\u001b[0m\u001b[1;32m    184\u001b[0m                     \u001b[0;34mf\"Above error raised while reading key {elem.name!r} of \"\u001b[0m\u001b[0;34m\u001b[0m\u001b[0;34m\u001b[0m\u001b[0m\n\u001b[1;32m    185\u001b[0m                     \u001b[0;34mf\"type {type(elem)} from {parent}.\"\u001b[0m\u001b[0;34m\u001b[0m\u001b[0;34m\u001b[0m\u001b[0m\n",
      "\u001b[0;31mAnnDataReadError\u001b[0m: Above error raised while reading key '/layers' of type <class 'h5py._hl.group.Group'> from /."
     ]
    }
   ],
   "source": [
    "import anndata as ad\n",
    "import pathlib\n",
    "import scvi\n",
    "\n",
    "DATA_PATH = pathlib.Path(\"../data\")\n",
    "\n",
    "\n",
    "adata = ad.read_h5ad(DATA_PATH / \"non_malignant.h5ad\")\n",
    "adata = adata[(adata.obs[\"celltype\"] == \"Tcells\") | (adata.obs[\"celltype\"] == \"Bcells\")].copy()"
   ]
  },
  {
   "cell_type": "markdown",
   "id": "44596f28",
   "metadata": {},
   "source": [
    "## Generating subclones\n",
    "\n",
    "Now, we'll import the subpackage dedicated to this:"
   ]
  },
  {
   "cell_type": "code",
   "execution_count": null,
   "id": "b3f2817d",
   "metadata": {},
   "outputs": [],
   "source": [
    "import sys\n",
    "sys.path.insert(0, \"../\")\n",
    "\n",
    "import simul.cna.api as cna"
   ]
  },
  {
   "cell_type": "markdown",
   "id": "a9b280b2",
   "metadata": {},
   "source": [
    "Now we will need to load human genome (or at least the genes of interest) into a convenient object:"
   ]
  },
  {
   "cell_type": "code",
   "execution_count": null,
   "id": "461c3350",
   "metadata": {},
   "outputs": [],
   "source": [
    "genome = cna.Genome(genes_df=adata.var, chromosome_column=\"chromosome\", start_column=\"start\")"
   ]
  },
  {
   "cell_type": "markdown",
   "id": "b816a913",
   "metadata": {},
   "source": [
    "We can use it to generate the CNV profiles, corresponding to different subclones. We will generate 10 different subclones."
   ]
  },
  {
   "cell_type": "code",
   "execution_count": null,
   "id": "edf740f6",
   "metadata": {},
   "outputs": [],
   "source": [
    "profile_generator = cna.CNVProfileGenerator(\n",
    "    genome=genome,\n",
    "    chromosomes_gain=[\"chr1\", \"chr2\", \"chr5\"],\n",
    "    chromosomes_loss=[\"chr4\", \"chr12\", \"chr11\"],\n",
    "    seed=2022,\n",
    ")\n",
    "\n",
    "subclones = [\n",
    "    profile_generator.generate_subclone() for _ in range(10)\n",
    "]"
   ]
  },
  {
   "cell_type": "markdown",
   "id": "46957b41",
   "metadata": {},
   "source": [
    "Let's see how many genes in each subclone are gained/lost:\n",
    "\n",
    "**TODO: Consider adding visualisations, like these in inferCNVpy?**"
   ]
  },
  {
   "cell_type": "code",
   "execution_count": null,
   "id": "910655ee",
   "metadata": {},
   "outputs": [],
   "source": [
    "for i, subclone in enumerate(subclones, 1):\n",
    "    n_gains = sum(subclone == 1)\n",
    "    n_losses = sum(subclone == -1)\n",
    "\n",
    "    print(f\"For {i}th subclone we have {n_gains} gains and {n_losses} losses.\")"
   ]
  },
  {
   "cell_type": "markdown",
   "id": "9ccb1bed",
   "metadata": {},
   "source": [
    "Now we will try to learn anchor genes:\n",
    "\n",
    "**TODO: Do we want to learn them on synthetic data or something from inferCNVpy?\n",
    "We can use the estimator in both cases, if the gene order doesn't change.**"
   ]
  },
  {
   "cell_type": "code",
   "execution_count": null,
   "id": "405c59be",
   "metadata": {},
   "outputs": [],
   "source": [
    "anchor_estimator = cna.MostFrequentGainLossAnchorsEstimator(gene_names=genome)\n",
    "anchor_estimator.fit(subclones)\n",
    "\n",
    "print(f\"As the gain anchor gene we will use {anchor_estimator.gene_gain}.\")\n",
    "print(f\"As the loss anchor gene we will use {anchor_estimator.gene_loss}.\")"
   ]
  },
  {
   "cell_type": "markdown",
   "id": "ddade0d8",
   "metadata": {},
   "source": [
    "Let's see how the anchors of different subclones look like:"
   ]
  },
  {
   "cell_type": "code",
   "execution_count": null,
   "id": "a6e7bb4e",
   "metadata": {},
   "outputs": [],
   "source": [
    "anchor_estimator.predict(subclones)"
   ]
  },
  {
   "cell_type": "markdown",
   "id": "f56fc41c",
   "metadata": {},
   "source": [
    "## Sampling programs\n",
    "\n",
    "For each batch and anchor we want to have a distribution over different programs. Consider a case with three different programs and two patients.\n",
    "\n",
    "We will need to specify how the probability of each program depends on the anchors. (The sampling procedure is in fact more complex, we will discuss it later)."
   ]
  },
  {
   "cell_type": "code",
   "execution_count": null,
   "id": "42fc346f",
   "metadata": {},
   "outputs": [],
   "source": [
    "anchors_to_alphas={\n",
    "        (True, True): [100, 5, 6],\n",
    "        (False, True): [10, 10, 100],\n",
    "        (True, False): [10, 100, 10],\n",
    "        (False, False): [10, 10, 10],\n",
    "    }\n",
    "\n",
    "batches = [\"patient1\", \"patient2\",]\n",
    "program_names = [\"program1\", \"program2\", \"program3\"]"
   ]
  },
  {
   "cell_type": "markdown",
   "id": "e7a1e233",
   "metadata": {},
   "source": [
    "As mentioned above, the sampling procedure is more complex. For each patient we will have a _sample_ from the Dirichlet distribution parametrized by the values above.\n",
    "\n",
    "Moreover, we will randomly drop some programs in some patients. Let's set the dropout probability to something high, but require at least two different programs in each patient. "
   ]
  },
  {
   "cell_type": "code",
   "execution_count": null,
   "id": "6d33f0cd",
   "metadata": {},
   "outputs": [],
   "source": [
    "distribution = cna.generate_probabilities(\n",
    "    anchors_to_alphas=anchors_to_alphas,\n",
    "    batches=batches,\n",
    "    min_programs=2,\n",
    "    prob_dropout=0.8,\n",
    "    program_names=program_names,\n",
    ")"
   ]
  },
  {
   "cell_type": "markdown",
   "id": "cf263806",
   "metadata": {},
   "source": [
    "We have a distribution object, which can be used to sample from $P(program | anchors, batch)$.\n",
    "\n",
    "Let's see how this works in practice:"
   ]
  },
  {
   "cell_type": "code",
   "execution_count": null,
   "id": "abe07721",
   "metadata": {},
   "outputs": [],
   "source": [
    "import numpy as np\n",
    "from itertools import product\n",
    "\n",
    "for batch in batches:\n",
    "    print(f\"Batch {batch} \")\n",
    "    for anchors in product([True, False], [True, False]):\n",
    "        prob = distribution.probabilities(anchors=anchors, batch=batch)\n",
    "        print(f\"Anchors {anchors}:\\t{np.round(prob, 2).tolist()}\")\n",
    "    \n",
    "    print(\"\\n\\n\")"
   ]
  },
  {
   "cell_type": "markdown",
   "id": "433db69e",
   "metadata": {},
   "source": [
    "## Modifying gene expression\n",
    "\n",
    "See the `simul.cna.gene_expression` submodule. The important things are `sample_gain_vector`, `sample_loss_vector`, `perturb`, and (the most important one) `change_expression`."
   ]
  },
  {
   "cell_type": "code",
   "execution_count": null,
   "id": "36955cd2",
   "metadata": {},
   "outputs": [],
   "source": []
  }
 ],
 "metadata": {
  "kernelspec": {
   "display_name": "Python 3.9.10 64-bit",
   "language": "python",
   "name": "python3"
  },
  "language_info": {
   "codemirror_mode": {
    "name": "ipython",
    "version": 3
   },
   "file_extension": ".py",
   "mimetype": "text/x-python",
   "name": "python",
   "nbconvert_exporter": "python",
   "pygments_lexer": "ipython3",
   "version": "3.9.10"
  },
  "vscode": {
   "interpreter": {
    "hash": "b0fa6594d8f4cbf19f97940f81e996739fb7646882a419484c72d19e05852a7e"
   }
  }
 },
 "nbformat": 4,
 "nbformat_minor": 5
}
