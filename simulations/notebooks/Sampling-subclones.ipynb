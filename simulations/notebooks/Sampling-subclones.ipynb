{
 "cells": [
  {
   "cell_type": "markdown",
   "id": "9706c3f9",
   "metadata": {},
   "source": [
    "# Sampling subclones\n",
    "\n",
    "This notebook illustrates how to use the utilities related to sampling CNV profiles.\n",
    "\n",
    "## Loading some data\n",
    "First, let's load some data"
   ]
  },
  {
   "cell_type": "code",
   "execution_count": null,
   "id": "e1ba35b1",
   "metadata": {},
   "outputs": [],
   "source": [
    "import anndata as ad\n",
    "import pathlib\n",
    "import scvi\n",
    "\n",
    "DATA_PATH = pathlib.Path(\"../data\")\n",
    "\n",
    "\n",
    "adata = ad.read_h5ad(DATA_PATH / \"non_malignant.h5ad\")\n",
    "adata = adata[(adata.obs[\"celltype\"] == \"Tcells\") | (adata.obs[\"celltype\"] == \"Bcells\")].copy()"
   ]
  },
  {
   "cell_type": "markdown",
   "id": "44596f28",
   "metadata": {},
   "source": [
    "## Generating subclones\n",
    "\n",
    "Now, we'll import the subpackage dedicated to this:"
   ]
  },
  {
   "cell_type": "code",
   "execution_count": null,
   "id": "b3f2817d",
   "metadata": {},
   "outputs": [],
   "source": [
    "import sys\n",
    "sys.path.insert(0, \"../\")\n",
    "\n",
    "import simul.cna.api as cna"
   ]
  },
  {
   "cell_type": "markdown",
   "id": "a9b280b2",
   "metadata": {},
   "source": [
    "Now we will need to load human genome (or at least the genes of interest) into a convenient object:"
   ]
  },
  {
   "cell_type": "code",
   "execution_count": null,
   "id": "461c3350",
   "metadata": {},
   "outputs": [],
   "source": [
    "genome = cna.Genome(genes_df=adata.var, chromosome_column=\"chromosome\", start_column=\"start\")"
   ]
  },
  {
   "cell_type": "markdown",
   "id": "b816a913",
   "metadata": {},
   "source": [
    "We can use it to generate the CNV profiles, corresponding to different subclones. We will generate 10 different subclones."
   ]
  },
  {
   "cell_type": "code",
   "execution_count": null,
   "id": "edf740f6",
   "metadata": {},
   "outputs": [],
   "source": [
    "profile_generator = cna.CNVProfileGenerator(\n",
    "    genome=genome,\n",
    "    chromosomes_gain=[\"chr1\", \"chr2\", \"chr5\"],\n",
    "    chromosomes_loss=[\"chr4\", \"chr12\", \"chr11\"],\n",
    "    seed=2022,\n",
    ")\n",
    "\n",
    "subclones = [\n",
    "    profile_generator.generate_subclone() for _ in range(10)\n",
    "]"
   ]
  },
  {
   "cell_type": "markdown",
   "id": "46957b41",
   "metadata": {},
   "source": [
    "Let's see how many genes in each subclone are gained/lost:\n",
    "\n",
    "**TODO: Consider adding visualisations, like these in inferCNVpy?**"
   ]
  },
  {
   "cell_type": "code",
   "execution_count": null,
   "id": "910655ee",
   "metadata": {},
   "outputs": [],
   "source": [
    "for i, subclone in enumerate(subclones, 1):\n",
    "    n_gains = sum(subclone == 1)\n",
    "    n_losses = sum(subclone == -1)\n",
    "\n",
    "    print(f\"For {i}th subclone we have {n_gains} gains and {n_losses} losses.\")"
   ]
  },
  {
   "cell_type": "markdown",
   "id": "9ccb1bed",
   "metadata": {},
   "source": [
    "Now we will try to learn anchor genes:\n",
    "\n",
    "**TODO: Do we want to learn them on synthetic data or something from inferCNVpy?\n",
    "We can use the estimator in both cases, if the gene order doesn't change.**"
   ]
  },
  {
   "cell_type": "code",
   "execution_count": null,
   "id": "405c59be",
   "metadata": {},
   "outputs": [],
   "source": [
    "anchor_estimator = cna.MostFrequentGainLossAnchorsEstimator(gene_names=genome)\n",
    "anchor_estimator.fit(subclones)\n",
    "\n",
    "print(f\"As the gain anchor gene we will use {anchor_estimator.gene_gain}.\")\n",
    "print(f\"As the loss anchor gene we will use {anchor_estimator.gene_loss}.\")"
   ]
  },
  {
   "cell_type": "markdown",
   "id": "ddade0d8",
   "metadata": {},
   "source": [
    "Let's see how the anchors of different subclones look like:"
   ]
  },
  {
   "cell_type": "code",
   "execution_count": null,
   "id": "a6e7bb4e",
   "metadata": {},
   "outputs": [],
   "source": [
    "anchor_estimator.predict(subclones)"
   ]
  },
  {
   "cell_type": "markdown",
   "id": "f56fc41c",
   "metadata": {},
   "source": [
    "## Sampling programs\n",
    "\n",
    "For each batch and anchor we want to have a distribution over different programs. Consider a case with three different programs and two patients.\n",
    "\n",
    "We will need to specify how the probability of each program depends on the anchors. (The sampling procedure is in fact more complex, we will discuss it later)."
   ]
  },
  {
   "cell_type": "code",
   "execution_count": null,
   "id": "42fc346f",
   "metadata": {},
   "outputs": [],
   "source": [
    "anchors_to_alphas={\n",
    "        (True, True): [100, 5, 6],\n",
    "        (False, True): [10, 10, 100],\n",
    "        (True, False): [10, 100, 10],\n",
    "        (False, False): [10, 10, 10],\n",
    "    }\n",
    "\n",
    "batches = [\"patient1\", \"patient2\",]\n",
    "program_names = [\"program1\", \"program2\", \"program3\"]"
   ]
  },
  {
   "cell_type": "markdown",
   "id": "e7a1e233",
   "metadata": {},
   "source": [
    "As mentioned above, the sampling procedure is more complex. For each patient we will have a _sample_ from the Dirichlet distribution parametrized by the values above.\n",
    "\n",
    "Moreover, we will randomly drop some programs in some patients. Let's set the dropout probability to something high, but require at least two different programs in each patient. "
   ]
  },
  {
   "cell_type": "code",
   "execution_count": null,
   "id": "6d33f0cd",
   "metadata": {},
   "outputs": [],
   "source": [
    "distribution = cna.generate_probabilities(\n",
    "    anchors_to_alphas=anchors_to_alphas,\n",
    "    batches=batches,\n",
    "    min_programs=2,\n",
    "    prob_dropout=0.8,\n",
    "    program_names=program_names,\n",
    ")"
   ]
  },
  {
   "cell_type": "markdown",
   "id": "cf263806",
   "metadata": {},
   "source": [
    "We have a distribution object, which can be used to sample from $P(program | anchors, batch)$.\n",
    "\n",
    "Let's see how this works in practice:"
   ]
  },
  {
   "cell_type": "code",
   "execution_count": null,
   "id": "abe07721",
   "metadata": {},
   "outputs": [],
   "source": [
    "import numpy as np\n",
    "from itertools import product\n",
    "\n",
    "for batch in batches:\n",
    "    print(f\"Batch {batch} \")\n",
    "    for anchors in product([True, False], [True, False]):\n",
    "        prob = distribution.probabilities(anchors=anchors, batch=batch)\n",
    "        print(f\"Anchors {anchors}:\\t{np.round(prob, 2).tolist()}\")\n",
    "    \n",
    "    print(\"\\n\\n\")"
   ]
  },
  {
   "cell_type": "markdown",
   "id": "433db69e",
   "metadata": {},
   "source": [
    "## Modifying gene expression\n",
    "\n",
    "See the `simul.cna.gene_expression` submodule. The important things are `sample_gain_vector`, `sample_loss_vector`, `perturb`, and (the most important one) `change_expression`."
   ]
  },
  {
   "cell_type": "code",
   "execution_count": null,
   "id": "36955cd2",
   "metadata": {},
   "outputs": [],
   "source": []
  }
 ],
 "metadata": {
  "kernelspec": {
   "display_name": "Python 3 (ipykernel)",
   "language": "python",
   "name": "python3"
  },
  "language_info": {
   "codemirror_mode": {
    "name": "ipython",
    "version": 3
   },
   "file_extension": ".py",
   "mimetype": "text/x-python",
   "name": "python",
   "nbconvert_exporter": "python",
   "pygments_lexer": "ipython3",
   "version": "3.8.13"
  }
 },
 "nbformat": 4,
 "nbformat_minor": 5
}
