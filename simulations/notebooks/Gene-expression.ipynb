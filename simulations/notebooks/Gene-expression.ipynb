{
 "cells": [
  {
   "cell_type": "markdown",
   "id": "e1584b11",
   "metadata": {},
   "source": [
    "# Demo\n",
    "\n",
    "## The aim\n",
    "The purpose of this notebook is to demonstrate the utilities in the simulation framework.\n",
    "\n",
    "Note that the exact experimental protocol has not been fixed yet, so the changes will appear – it should not be treated as a final notebook.\n",
    "\n",
    "## Loading the data and training the model\n",
    "\n",
    "We will first read some data from the disk. We will select two cell types."
   ]
  },
  {
   "cell_type": "code",
   "execution_count": null,
   "id": "eaed2d99",
   "metadata": {},
   "outputs": [],
   "source": [
    "import anndata as ad\n",
    "import pathlib\n",
    "import scvi\n",
    "\n",
    "DATA_PATH = pathlib.Path(\"../data\")\n",
    "\n",
    "\n",
    "adata = ad.read_h5ad(DATA_PATH / \"non_malignant.h5ad\")\n",
    "adata = adata[(adata.obs[\"celltype\"] == \"Tcells\") | (adata.obs[\"celltype\"] == \"Bcells\")].copy()"
   ]
  },
  {
   "cell_type": "markdown",
   "id": "4716af56",
   "metadata": {},
   "source": [
    "Now we will train the model:"
   ]
  },
  {
   "cell_type": "code",
   "execution_count": null,
   "id": "ff67902b",
   "metadata": {},
   "outputs": [],
   "source": [
    "scvi.model.SCVI.setup_anndata(adata, batch_key=\"batch\")\n",
    "\n",
    "model = scvi.model.SCVI(adata, n_hidden=64, n_layers=2)\n",
    "model.train(early_stopping=True, max_epochs=300)\n",
    "model.save(DATA_PATH / \"scvi-model\")"
   ]
  },
  {
   "cell_type": "markdown",
   "id": "5972cf82",
   "metadata": {},
   "source": [
    "In case you have already trained the model and you want to reuse it, just do the following:"
   ]
  },
  {
   "cell_type": "code",
   "execution_count": null,
   "id": "c15c4ece",
   "metadata": {},
   "outputs": [],
   "source": [
    "scvi.model.SCVI.setup_anndata(adata, batch_key=\"batch\")\n",
    "model = scvi.model.SCVI.load(DATA_PATH / \"scvi-model\", adata)"
   ]
  },
  {
   "cell_type": "markdown",
   "id": "03553062",
   "metadata": {},
   "source": [
    "The parameters (10 samples from the posterior) can be retrieved as:"
   ]
  },
  {
   "cell_type": "code",
   "execution_count": null,
   "id": "2e3f1474",
   "metadata": {},
   "outputs": [],
   "source": [
    "zinb_params = model.get_likelihood_parameters(n_samples=10, indices=[1,2,3])"
   ]
  },
  {
   "cell_type": "markdown",
   "id": "12453adb",
   "metadata": {},
   "source": [
    "Now we can analyse how the dropout changes with mean, across several cells and all genes:"
   ]
  },
  {
   "cell_type": "code",
   "execution_count": null,
   "id": "9a303fbd",
   "metadata": {},
   "outputs": [],
   "source": [
    "b_cells_ind = [0, 100, 129, 8]\n",
    "t_cells_ind = [-4, -3, -1]\n",
    "\n",
    "\n",
    "zinb_params_b_cells = model.get_likelihood_parameters(n_samples=1, indices=b_cells_ind)\n",
    "zinb_params_t_cells = model.get_likelihood_parameters(n_samples=1, indices=t_cells_ind)\n",
    "\n",
    "import matplotlib.pyplot as plt\n",
    "\n",
    "fig, ax = plt.subplots(figsize=(8, 6))\n",
    "\n",
    "plt.scatter(zinb_params_b_cells[\"mean\"].ravel(), zinb_params_b_cells[\"dropout\"].ravel(), label=\"B-cells\")\n",
    "plt.scatter(zinb_params_t_cells[\"mean\"].ravel(), zinb_params_t_cells[\"dropout\"].ravel(), label=\"T-cells\")\n",
    "\n",
    "plt.xlabel(\"mean\")\n",
    "plt.ylabel(\"dropout\")"
   ]
  },
  {
   "cell_type": "code",
   "execution_count": null,
   "id": "85255887",
   "metadata": {},
   "outputs": [],
   "source": []
  }
 ],
 "metadata": {
  "kernelspec": {
   "display_name": "Python 3 (ipykernel)",
   "language": "python",
   "name": "python3"
  },
  "language_info": {
   "codemirror_mode": {
    "name": "ipython",
    "version": 3
   },
   "file_extension": ".py",
   "mimetype": "text/x-python",
   "name": "python",
   "nbconvert_exporter": "python",
   "pygments_lexer": "ipython3",
   "version": "3.8.13"
  }
 },
 "nbformat": 4,
 "nbformat_minor": 5
}
