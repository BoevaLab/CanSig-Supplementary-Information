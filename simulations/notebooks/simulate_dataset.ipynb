{
 "cells": [
  {
   "cell_type": "code",
   "execution_count": null,
   "id": "67005801",
   "metadata": {},
   "outputs": [],
   "source": [
    "import sys\n",
    "sys.path.insert(0, \"../\")\n",
    "\n",
    "import simul.cna.api as cna\n",
    "import simul.patients.api as patut\n",
    "import simul.run.api as run\n",
    "import simul.run.utils as plotut\n",
    "\n",
    "import pathlib\n",
    "import scvi\n",
    "import scipy\n",
    "import infercnvpy as cnv\n",
    "import scanpy as sc\n",
    "import pandas as pd\n",
    "import numpy as np\n",
    "import matplotlib.pyplot as plt\n",
    "import seaborn as sns\n",
    "import anndata as ad"
   ]
  },
  {
   "cell_type": "code",
   "execution_count": null,
   "id": "4b066b29",
   "metadata": {},
   "outputs": [],
   "source": []
  },
  {
   "cell_type": "markdown",
   "id": "b969d462",
   "metadata": {},
   "source": [
    "In this notebook, we will generate a dataset from scratch and take a brief look at the generated data. Prerequisites are that \n",
    "\n",
    "(a) an original adata for simulation be selected \n",
    "(b) an scVI model be pretrained on the original adata object "
   ]
  },
  {
   "cell_type": "markdown",
   "id": "4c31766a",
   "metadata": {},
   "source": [
    "# Simulate"
   ]
  },
  {
   "cell_type": "markdown",
   "id": "abb17846",
   "metadata": {},
   "source": [
    "We download the data as it was when pretrained. \n",
    "\n",
    "The dataset is a subset from Pelka et al., https://doi.org/10.1016/j.cell.2021.08.003\n",
    "We use macrophages and plasma cells to simulate healthy cells, and T cells in 3 different flavors (CD4+, CD8+ and gamma delta, PLZF+ T cells ie TZBTB16) as the basis for our malignant cells"
   ]
  },
  {
   "cell_type": "code",
   "execution_count": null,
   "id": "8dc13fec",
   "metadata": {},
   "outputs": [],
   "source": [
    "DATAPATH = pathlib.Path(\"/cluster/work/boeva/scRNAdata/preprocessed/crc/2022-06-14_14-54-09/data\")\n",
    "adata = sc.read_h5ad(DATAPATH / \"non_malignant.h5ad\")"
   ]
  },
  {
   "cell_type": "code",
   "execution_count": null,
   "id": "9211062c",
   "metadata": {},
   "outputs": [],
   "source": [
    "adata = adata[adata.obs.celltype.isin(\n",
    "    [\"TCD4\", \"TCD8\", \"Tgd\", \"TZBTB16\", \"Macro\", \"Plasma\"])].copy()"
   ]
  },
  {
   "cell_type": "markdown",
   "id": "82fd20f1",
   "metadata": {},
   "source": [
    "First we define the subset of patients in the original data that will be used for the generative process \n",
    "These have at least 50 cells for each program and at least 50 healthy cells"
   ]
  },
  {
   "cell_type": "code",
   "execution_count": null,
   "id": "66322cbc",
   "metadata": {},
   "outputs": [],
   "source": [
    "SELECTED_PATIENTS = []\n",
    "for sample in adata.obs.sample_id.unique():\n",
    "    patadata = adata[adata.obs.sample_id == sample].copy()\n",
    "    valcounts = patadata.obs.celltype.value_counts()\n",
    "    if valcounts.shape[0] == 6 and (valcounts[\"TCD4\"] > 30) and (\n",
    "            valcounts[\"Macro\"] > 30) and (valcounts[\"Plasma\"] > 30) and (\n",
    "            valcounts[\"TCD8\"] + valcounts[\"Tgd\"] > 30) and (valcounts[\"TZBTB16\"] > 30):\n",
    "        SELECTED_PATIENTS.append(sample)"
   ]
  },
  {
   "cell_type": "markdown",
   "id": "82c56fa5",
   "metadata": {},
   "source": [
    "*Note: we remove C162 because the patient was sampled twice in different chemistries and C171 drove the latent space because of the amount of cells*"
   ]
  },
  {
   "cell_type": "code",
   "execution_count": null,
   "id": "7a8d408a",
   "metadata": {},
   "outputs": [],
   "source": [
    "SELECTED_PATIENTS = np.setdiff1d(SELECTED_PATIENTS,[\"C162\",\"C171\"])"
   ]
  },
  {
   "cell_type": "code",
   "execution_count": null,
   "id": "7fee9a0f",
   "metadata": {},
   "outputs": [],
   "source": [
    "SELECTED_PATIENTS"
   ]
  },
  {
   "cell_type": "markdown",
   "id": "ff381dd0",
   "metadata": {},
   "source": [
    "We load the pretrained scVI model"
   ]
  },
  {
   "cell_type": "code",
   "execution_count": null,
   "id": "320e884c",
   "metadata": {},
   "outputs": [],
   "source": [
    "scvi.model.SCVI.setup_anndata(adata, batch_key=\"sample_id\")\n",
    "model = scvi.model.SCVI.load(\"../scvi-model/\", adata)"
   ]
  },
  {
   "cell_type": "markdown",
   "id": "1794835a",
   "metadata": {},
   "source": [
    "If you want to visualize the latent space of the trained model, you can use the following code"
   ]
  },
  {
   "cell_type": "code",
   "execution_count": null,
   "id": "66df20a3",
   "metadata": {},
   "outputs": [],
   "source": [
    "#lr = model.get_latent_representation()\n",
    "\n",
    "#adata.obsm[\"X_scvi\"] = lr\n",
    "\n",
    "#sc.pp.neighbors(adata, use_rep=\"X_scvi\")\n",
    "#sc.tl.umap(adata)\n",
    "\n",
    "#sc.pl.umap(adata, color=[\"celltype\",\"sample_id\"]\")"
   ]
  },
  {
   "cell_type": "markdown",
   "id": "03667d89",
   "metadata": {},
   "source": [
    "We define the anchors associated with each program. In this case we took anchors that were linked to the original programs (ie CD4 of T CD4+, CD8A for T CD8+/gamma delta and CD7 for PLZF+ T ie TZBTB16)"
   ]
  },
  {
   "cell_type": "code",
   "execution_count": null,
   "id": "722a9980",
   "metadata": {},
   "outputs": [],
   "source": [
    "anchors = [\"CD4\",\"CD8A\",\"CD7\"]"
   ]
  },
  {
   "cell_type": "markdown",
   "id": "448af4de",
   "metadata": {},
   "source": [
    "We create a genome object and a CNVGenerator object."
   ]
  },
  {
   "cell_type": "markdown",
   "id": "d77b3084",
   "metadata": {},
   "source": [
    "WARNING: beware not to put in the chromosomes where one can create a potential loss the chromosomes of the anchor, to avoid a weird situation of a gain happening in the middle of a loss."
   ]
  },
  {
   "cell_type": "code",
   "execution_count": null,
   "id": "7c9ea490",
   "metadata": {},
   "outputs": [],
   "source": [
    "genome = cna.Genome(genes_df=adata.var, chromosome_column=\"chromosome\", start_column=\"start\")"
   ]
  },
  {
   "cell_type": "markdown",
   "id": "ff59bb02",
   "metadata": {},
   "source": [
    "The different hyperparameters chosen here:\n",
    "- chromosomes_gain: which chromosomes a potential gain can occur on\n",
    "- chromosomes_loss: which chromosomes a potential loss can occur on\n",
    "- dropout: the probability of a dropping a chromosome for gain/loss in the ancestral subclone\n",
    "- dropout_child: the probability of dropping a chromosome for gain/loss in the children subclones\n",
    "- p_anchor: the probability of gaining an anchor at each call \n",
    "- min_region_length: the minimal length of the CNV region (not considering the cut linked to the end of the chromosome)\n",
    "- max_region_length: the maximal length of the CNV region (not considering the cut linked to the end of the chromosome)\n",
    "- seed: the random seed associated with the CNV generation"
   ]
  },
  {
   "cell_type": "code",
   "execution_count": null,
   "id": "d8fdb96b",
   "metadata": {},
   "outputs": [],
   "source": [
    "CNVGenerator = cna.CNVPerBatchGenerator(\n",
    "        genome=genome,\n",
    "        anchors = anchors,\n",
    "        chromosomes_gain=[\"chr1\",\"chr2\",\"chr4\",\"chr5\",\"chr10\",\"chr11\",\"chr14\",\"chr19\",\"chr20\"],\n",
    "        chromosomes_loss=[\"chr3\",\"chr6\",\"chr8\",\"chr13\",\"chr16\",\"chr18\",],\n",
    "        dropout=0.5,\n",
    "        dropout_child=0.7,\n",
    "        p_anchor = 0.2,\n",
    "        min_region_length=500,\n",
    "        max_region_length=700,\n",
    "        seed = np.random.randint(100),\n",
    ")"
   ]
  },
  {
   "cell_type": "markdown",
   "id": "1de2105f",
   "metadata": {},
   "source": [
    "Now we generate a dataset. We use the Dataset class provided in this framework that will automatically instantiate patients, subclones etc. For more info see the `patients` subpackage.\n",
    "\n",
    "The hyperparameters chosen here are:\n",
    "- n_batches: the number of patients to generate. BEWARE if using sampling without replacement you cannot generate more patients than you have selected patients (in our case 5)\n",
    "- n_programs: number of programs to generate (here fixed at 3)\n",
    "- CNVGenerator: the CNVGenerator instantiated above\n",
    "- seed: random seed\n",
    "- n_subclones_min: min number of subclones per patient\n",
    "- n_subclones_max: max number of subclones per patient\n",
    "- n_malignant_max: max number of malignant cells\n",
    "- n_malignant_min: min number of malignant cells\n",
    "- n_healthy_max: max number of healthy cells\n",
    "- n_healthy_min: min number of healthy cells\n",
    "- subclone_alpha: alpha for the dirichlet distribution for subclone proportion sampling ($\\alpha_i =$subclone_alpha $\\forall i$)"
   ]
  },
  {
   "cell_type": "markdown",
   "id": "8089cb73",
   "metadata": {},
   "source": [
    "*Note: when generating subclones, we start from an ancestral clone and create a branching structure, see simul.cna subpackage for more details. If the child generated is the same as the ancestral clone, we call the child generation again, which will be indicated by a print message. If this goes on for too long, consider changing the probability p_child in the CNVGenerator, it might be too low*"
   ]
  },
  {
   "cell_type": "code",
   "execution_count": null,
   "id": "e3436890",
   "metadata": {},
   "outputs": [],
   "source": [
    "dataset = patut.Dataset(\n",
    "    n_batches=len(SELECTED_PATIENTS),\n",
    "    n_programs=3,\n",
    "    CNVGenerator=CNVGenerator,\n",
    "    seed=np.random.randint(100),\n",
    "    n_subclones_min=1,\n",
    "    n_subclones_max=3,\n",
    "    n_malignant_max=400,\n",
    "    n_malignant_min=200,\n",
    "    n_healthy_max=250,\n",
    "    n_healthy_min=100,\n",
    "    subclone_alpha=5,\n",
    "    \n",
    ")"
   ]
  },
  {
   "cell_type": "markdown",
   "id": "7548f938",
   "metadata": {},
   "source": [
    "We look at what subclone proportions will exist in the data per patient"
   ]
  },
  {
   "cell_type": "code",
   "execution_count": null,
   "id": "fdc36369",
   "metadata": {},
   "outputs": [],
   "source": [
    "for pat in dataset.patients:\n",
    "    print(pat.batch, pat.n_total_cells(), pat.subclone_proportions)"
   ]
  },
  {
   "cell_type": "markdown",
   "id": "964f759e",
   "metadata": {},
   "source": [
    "We plot and save the heatmap showing the generator CNV profiles for the entire dataset"
   ]
  },
  {
   "cell_type": "code",
   "execution_count": null,
   "id": "d5981a35",
   "metadata": {},
   "outputs": [],
   "source": [
    "run.plot_subclone_profile(dataset=dataset,filename=\"figures/heatmap_highcnv_subclones.png\")"
   ]
  },
  {
   "cell_type": "markdown",
   "id": "587c7877",
   "metadata": {},
   "source": [
    "We also provide utilities to visualize the subclone profiles per patient which chromosomal annotation."
   ]
  },
  {
   "cell_type": "code",
   "execution_count": null,
   "id": "0630e7c1",
   "metadata": {},
   "outputs": [],
   "source": [
    "plotut.plot_cnv_heatmap(dataset=dataset, patient=\"patient3\", adata=adata)"
   ]
  },
  {
   "cell_type": "markdown",
   "id": "dc4143df",
   "metadata": {},
   "source": [
    "Now we generate the alphas for the dirichlet distributions associated with the anchors"
   ]
  },
  {
   "cell_type": "code",
   "execution_count": null,
   "id": "a3253cc1",
   "metadata": {},
   "outputs": [],
   "source": [
    "anchor_alphas = run.generate_anchor_alphas(anchors=anchors, alpha_add=10, start_alpha=[10,10,5])"
   ]
  },
  {
   "cell_type": "code",
   "execution_count": null,
   "id": "50103d3e",
   "metadata": {},
   "outputs": [],
   "source": [
    "anchor_alphas"
   ]
  },
  {
   "cell_type": "markdown",
   "id": "02a21e55",
   "metadata": {},
   "source": [
    "We create a probability distribution P(Program|anchors,batch) using the aforementioned alphas and sampling from the resulting dirichlet distributions "
   ]
  },
  {
   "cell_type": "markdown",
   "id": "4bf61480",
   "metadata": {},
   "source": [
    "*Note: here we set dropout at 0 because we will remove certain programs after the generation procedure rather than before to avoid the possibility of dropping out the most probable clone.*"
   ]
  },
  {
   "cell_type": "code",
   "execution_count": null,
   "id": "10c252df",
   "metadata": {},
   "outputs": [],
   "source": [
    "MIN_PROGRAMS = 2\n",
    "DROPOUT = 0"
   ]
  },
  {
   "cell_type": "code",
   "execution_count": null,
   "id": "592d3e1a",
   "metadata": {},
   "outputs": [],
   "source": [
    "distribution = cna.generate_probabilities(\n",
    "    anchors_to_alphas=anchor_alphas,\n",
    "    batches=dataset.batches,\n",
    "    min_programs=MIN_PROGRAMS,\n",
    "    prob_dropout=DROPOUT,\n",
    "    program_names=dataset.programs,\n",
    "    seed=np.random.randint(100),\n",
    ")"
   ]
  },
  {
   "cell_type": "code",
   "execution_count": null,
   "id": "55f62669",
   "metadata": {
    "scrolled": true
   },
   "outputs": [],
   "source": [
    "distribution._conditional_probability"
   ]
  },
  {
   "cell_type": "markdown",
   "id": "72d287f8",
   "metadata": {},
   "source": [
    "We now start the simulation procedure. First we create the composition of the malignant compartment for all patients. We pick for each cell which program and subclone it belongs to based on the generated probability distribution."
   ]
  },
  {
   "cell_type": "code",
   "execution_count": null,
   "id": "cb6a6029",
   "metadata": {},
   "outputs": [],
   "source": [
    "all_malignant_obs = run.simulate_malignant_comp_batches(dataset=dataset, prob_dist=distribution)"
   ]
  },
  {
   "cell_type": "markdown",
   "id": "75a7454c",
   "metadata": {},
   "source": [
    "We then drop programs for patients. We drop the rarest program with probability `p_1`. Iff the rarest program is dropped, we drop the second rarest program with probability `p_2`. "
   ]
  },
  {
   "cell_type": "code",
   "execution_count": null,
   "id": "3a1edac5",
   "metadata": {},
   "outputs": [],
   "source": [
    "all_malignant_obs, dataset = run.drop_rarest_program(all_malignant_obs,dataset,p_1=0.3, p_2=0.2)"
   ]
  },
  {
   "cell_type": "markdown",
   "id": "cf549056",
   "metadata": {},
   "source": [
    "We now pick the healthy compartment. Cells are either macrophages or plasma cells in our case."
   ]
  },
  {
   "cell_type": "code",
   "execution_count": null,
   "id": "d1e90406",
   "metadata": {},
   "outputs": [],
   "source": [
    "all_healthy_obs = run.simulate_healthy_comp_batches(dataset=dataset)"
   ]
  },
  {
   "cell_type": "markdown",
   "id": "158ec7f5",
   "metadata": {},
   "source": [
    "We sample which original patients the simulated patients will come from. One can either chose to proceed without replacement so that no patients share common  priors or with replacement to be able to generate more patients in the dataset."
   ]
  },
  {
   "cell_type": "code",
   "execution_count": null,
   "id": "2edc436d",
   "metadata": {},
   "outputs": [],
   "source": [
    "sample_patients = run.sample_patient_original(dataset=dataset, selected_patients=SELECTED_PATIENTS)\n",
    "#sample_patients = run.sample_patient_original_replacement(dataset=dataset, selected_patients=SELECTED_PATIENTS)"
   ]
  },
  {
   "cell_type": "markdown",
   "id": "b5285d27",
   "metadata": {},
   "source": [
    "We add here the chemistry with which the original patient was sampled. Indeed, patients were sampled with V2 and V3 chemistry in the Pelka et al dataset, which can lead to strong batch effects in addition to patient-specific batch effects. We want to be able to quantify how well these are later learned."
   ]
  },
  {
   "cell_type": "code",
   "execution_count": null,
   "id": "cc8e50a2",
   "metadata": {},
   "outputs": [],
   "source": [
    "all_malignant_obs = run.add_chemistry_obs(all_malignant_obs=all_malignant_obs, sample_patients=sample_patients, adata=adata)\n",
    "\n",
    "all_healthy_obs = run.add_chemistry_obs(all_malignant_obs=all_healthy_obs, sample_patients=sample_patients, adata=adata)"
   ]
  },
  {
   "cell_type": "markdown",
   "id": "d76fc5d9",
   "metadata": {},
   "source": [
    "Finally we sample from a ZINB the malignant and healthy compartments of all the patients."
   ]
  },
  {
   "cell_type": "code",
   "execution_count": null,
   "id": "227d6162",
   "metadata": {
    "scrolled": true
   },
   "outputs": [],
   "source": [
    "all_malignant_gex = run.simulate_gex_malignant(adata=adata, model=model, dataset=dataset, \n",
    "                                               all_malignant_obs=all_malignant_obs, \n",
    "                                               sample_patients=sample_patients)"
   ]
  },
  {
   "cell_type": "code",
   "execution_count": null,
   "id": "fe9dee29",
   "metadata": {
    "scrolled": true
   },
   "outputs": [],
   "source": [
    "all_healthy_gex = run.simulate_gex_healthy(adata=adata, model=model, \n",
    "                                               all_healthy_obs=all_healthy_obs, \n",
    "                                               sample_patients=sample_patients,)"
   ]
  },
  {
   "cell_type": "markdown",
   "id": "10225571",
   "metadata": {},
   "source": [
    "We use this function to save a patient as a `.h5ad` object"
   ]
  },
  {
   "cell_type": "code",
   "execution_count": null,
   "id": "63f0f469",
   "metadata": {},
   "outputs": [],
   "source": [
    "def save_batch_gex(batch_name,batch_gex,gene_names,df_obs,savedir):\n",
    "    \n",
    "    batch_gex = scipy.sparse.csr_matrix(batch_gex)\n",
    "    batch_gex = pd.DataFrame.sparse.from_spmatrix(batch_gex, index=df_obs.index, columns=gene_names)\n",
    "    adata = ad.AnnData(batch_gex, obs=df_obs)\n",
    "    adata.write(savedir / f\"{batch_name}.h5ad\")"
   ]
  },
  {
   "cell_type": "markdown",
   "id": "c0b93153",
   "metadata": {},
   "source": [
    "For every patient, we concatenate the malignant and healthy components and save them as a .h5ad object"
   ]
  },
  {
   "cell_type": "code",
   "execution_count": null,
   "id": "d6949187",
   "metadata": {},
   "outputs": [],
   "source": [
    "import os\n",
    "savedir = pathlib.Path(\"/cluster/work/boeva/scRNAdata/cna_simulation/raw_datasets/highcnv_subclones/\")\n",
    "os.makedirs(savedir, exist_ok=True)"
   ]
  },
  {
   "cell_type": "code",
   "execution_count": null,
   "id": "947ccfb3",
   "metadata": {
    "scrolled": true
   },
   "outputs": [],
   "source": [
    "gene_names = list(adata.var_names)\n",
    "\n",
    "for pat in all_malignant_gex:\n",
    "    \n",
    "    df_mal = all_malignant_obs[pat]\n",
    "    df_h = all_healthy_obs[pat]\n",
    "    df_obs = pd.concat([df_mal,df_h])\n",
    "    \n",
    "    gex_mal = all_malignant_gex[pat]\n",
    "    gex_h = all_healthy_gex[pat]\n",
    "    batch_gex = np.concatenate([gex_mal,gex_h])\n",
    "    \n",
    "    print(f\"Saving {pat}\")\n",
    "    save_batch_gex(batch_name=pat,\n",
    "                   batch_gex=batch_gex,\n",
    "                   gene_names=gene_names,\n",
    "                   df_obs=df_obs,\n",
    "                   savedir=savedir)"
   ]
  },
  {
   "cell_type": "markdown",
   "id": "79d84766",
   "metadata": {},
   "source": [
    "We also save the cnv profiles for reference"
   ]
  },
  {
   "cell_type": "code",
   "execution_count": null,
   "id": "9b40d8b7",
   "metadata": {},
   "outputs": [],
   "source": [
    "resdir = savedir / \"cnvprofiles\"\n",
    "os.makedirs(resdir, exist_ok=True)\n",
    "\n",
    "for pat in dataset.patients:\n",
    "    profiles = []\n",
    "    for subc in pat.subclones:\n",
    "        profiles.append(subc.profile)\n",
    "    pd.concat(profiles,axis=1).to_csv(resdir / f\"{pat.batch}_cnv.csv\")\n",
    "    "
   ]
  },
  {
   "cell_type": "markdown",
   "id": "32bff3e6",
   "metadata": {},
   "source": [
    "# Analyse (briefly)"
   ]
  },
  {
   "cell_type": "markdown",
   "id": "75b67eac",
   "metadata": {},
   "source": [
    "We load the simulated data and create one adata object for the whole dataset"
   ]
  },
  {
   "cell_type": "code",
   "execution_count": null,
   "id": "0026a155",
   "metadata": {},
   "outputs": [],
   "source": [
    "adatas = [sc.read_h5ad(savedir / f\"patient{i}.h5ad\") for i in range(1,len(SELECTED_PATIENTS))]\n",
    "\n",
    "simadata = adatas[0].concatenate(*adatas[1:])"
   ]
  },
  {
   "cell_type": "markdown",
   "id": "fabb9e92",
   "metadata": {},
   "source": [
    "We compute standard quality control metrics, compute the cell cycle score, and then we compute the UMAP representation of the dataset."
   ]
  },
  {
   "cell_type": "code",
   "execution_count": null,
   "id": "1afd014e",
   "metadata": {},
   "outputs": [],
   "source": [
    "cc_genes = pd.read_csv(\"../data/cc_genes_2.csv\")\n",
    "\n",
    "s_genes = cc_genes[\"G1/S\"].str.strip().dropna().ravel()\n",
    "g2m_genes = cc_genes[\"G2/M\"].str.strip().dropna().ravel()\n",
    "\n",
    "simadata.var['mt'] = simadata.var_names.str.startswith('MT-')  # annotate the group of mitochondrial genes as 'mt'\n",
    "sc.pp.calculate_qc_metrics(simadata, qc_vars=['mt'], percent_top=None, log1p=True, inplace=True)\n",
    "\n",
    "sc.pp.normalize_total(simadata, target_sum=10000)\n",
    "sc.pp.log1p(simadata)\n",
    "sc.tl.score_genes_cell_cycle(simadata, s_genes=s_genes, g2m_genes=g2m_genes)"
   ]
  },
  {
   "cell_type": "markdown",
   "id": "51f26035",
   "metadata": {},
   "source": [
    "We can select only the highly variable genes in the malignant cells, as this is a common preprocessing step for batch integration algorithms"
   ]
  },
  {
   "cell_type": "code",
   "execution_count": null,
   "id": "bb9a0ab6",
   "metadata": {
    "scrolled": true
   },
   "outputs": [],
   "source": [
    "maladata = simadata[simadata.obs.malignant_key==\"malignant\"].copy()\n",
    "sc.pp.highly_variable_genes(maladata, n_top_genes=2000)\n",
    "simadata = simadata[:,maladata.var.highly_variable].copy()"
   ]
  },
  {
   "cell_type": "code",
   "execution_count": null,
   "id": "50c86377",
   "metadata": {},
   "outputs": [],
   "source": [
    "sc.pp.neighbors(simadata)\n",
    "sc.tl.umap(simadata)"
   ]
  },
  {
   "cell_type": "code",
   "execution_count": null,
   "id": "5e9b5633",
   "metadata": {},
   "outputs": [],
   "source": [
    "simadata.obs[\"pat_subclone\"] = simadata.obs.subclone.astype(str) + \"_\" + simadata.obs.batch.astype(str)\n",
    "simadata.obs[\"pat_subclone\"] = simadata.obs[\"pat_subclone\"].apply(lambda x: \"NA\" if \"NA\" in x else x)"
   ]
  },
  {
   "cell_type": "code",
   "execution_count": null,
   "id": "3b664bee",
   "metadata": {},
   "outputs": [],
   "source": [
    "sc.pl.umap(simadata,color=[\"malignant_key\",\"chemistry\",\"batch\",\"pat_subclone\",\n",
    " \"program\",\"log1p_total_counts\", \"pct_counts_mt\",\"phase\"] ,ncols=2, wspace=0.25,\n",
    "                 save=\"highcnv_subclones.png\")"
   ]
  },
  {
   "cell_type": "markdown",
   "id": "20fab4a1",
   "metadata": {},
   "source": [
    "We want to briefly see how well inferCNV manages to pick up the true CNVs we simulated. We thus apply inferCNV to a patient in the set and visualize the results vs the true CNVs."
   ]
  },
  {
   "cell_type": "code",
   "execution_count": null,
   "id": "5809ce59",
   "metadata": {},
   "outputs": [],
   "source": [
    "adatas[3].var = adata.var\n",
    "sc.pp.normalize_total(adatas[3],target_sum=10000)\n",
    "sc.pp.log1p(adatas[3])"
   ]
  },
  {
   "cell_type": "code",
   "execution_count": null,
   "id": "c46b5a8f",
   "metadata": {},
   "outputs": [],
   "source": [
    "cnv.tl.infercnv(adatas[3],reference_key=\"program\",reference_cat=[\"Macro\",\"Plasma\"],window_size=200)"
   ]
  },
  {
   "cell_type": "code",
   "execution_count": null,
   "id": "34761ad6",
   "metadata": {},
   "outputs": [],
   "source": [
    "cnv.pl.chromosome_heatmap(adatas[3],groupby=\"subclone\", save=\"infercnv_hard_small_new_pat4.png\")"
   ]
  },
  {
   "cell_type": "code",
   "execution_count": null,
   "id": "0091d4c8",
   "metadata": {},
   "outputs": [],
   "source": [
    "plotut.plot_cnv_heatmap(dataset=dataset, patient=\"patient4\", adata=adata, filename=\"figures/hard_small_new_pat4.png\")"
   ]
  },
  {
   "cell_type": "markdown",
   "id": "1bd9e8e0",
   "metadata": {},
   "source": [
    "# Comparing simulated and original"
   ]
  },
  {
   "cell_type": "markdown",
   "id": "949bce57",
   "metadata": {},
   "source": [
    "We want to see how the simulated data looks in comparison with the original data it was simulated from."
   ]
  },
  {
   "cell_type": "code",
   "execution_count": null,
   "id": "38282a7f",
   "metadata": {},
   "outputs": [],
   "source": [
    "simadata.obs[\"sample_id\"]=\"patient\" + (simadata.obs[\"batch\"].astype(int)+1).astype(str)"
   ]
  },
  {
   "cell_type": "code",
   "execution_count": null,
   "id": "f1847636",
   "metadata": {},
   "outputs": [],
   "source": [
    "adata = adata[adata.obs.sample_id.isin(SELECTED_PATIENTS)].copy()"
   ]
  },
  {
   "cell_type": "code",
   "execution_count": null,
   "id": "8e2d7dec",
   "metadata": {},
   "outputs": [],
   "source": [
    "joint = adata.concatenate(simadata)"
   ]
  },
  {
   "cell_type": "code",
   "execution_count": null,
   "id": "932db4fe",
   "metadata": {},
   "outputs": [],
   "source": [
    "# might be needed to avoid running out of memory!\n",
    "del simadata\n",
    "del adata"
   ]
  },
  {
   "cell_type": "code",
   "execution_count": null,
   "id": "8927007d",
   "metadata": {},
   "outputs": [],
   "source": [
    "# we put all the information in the same columns, as the naming conventions were different\n",
    "joint.obs.chemistry = joint.obs.chemistry.fillna(joint.obs.SINGLECELL_TYPE) \n",
    "\n",
    "joint.obs.program = joint.obs.program.astype(str).replace({\"nan\": np.nan}).fillna(joint.obs.celltype.astype(str))\n",
    "\n",
    "joint.obs[\"cell_origin\"] = joint.obs.batch.replace({'0': \"Original\", '1': \"Simulated\"})\n",
    "\n",
    "joint.obs.total_counts = joint.obs.total_counts.fillna(joint.obs.n_counts)"
   ]
  },
  {
   "cell_type": "code",
   "execution_count": null,
   "id": "b9b0d691",
   "metadata": {},
   "outputs": [],
   "source": [
    "sc.pp.normalize_total(joint, target_sum=10000)\n",
    "sc.pp.log1p(joint)\n",
    "\n",
    "sc.pp.neighbors(joint)\n",
    "sc.tl.umap(joint)"
   ]
  },
  {
   "cell_type": "code",
   "execution_count": null,
   "id": "45c4d203",
   "metadata": {},
   "outputs": [],
   "source": [
    "sc.pl.umap(joint, color=[\"chemistry\",\"program\",\"cell_origin\",\n",
    "\"total_counts\",\"sample_id\",],ncols=2,wspace=0.25, save=\"juxt_original_simulated_new.png\")"
   ]
  },
  {
   "cell_type": "code",
   "execution_count": null,
   "id": "1582b979",
   "metadata": {},
   "outputs": [],
   "source": []
  }
 ],
 "metadata": {
  "kernelspec": {
   "display_name": "Python 3 (ipykernel)",
   "language": "python",
   "name": "python3"
  },
  "language_info": {
   "codemirror_mode": {
    "name": "ipython",
    "version": 3
   },
   "file_extension": ".py",
   "mimetype": "text/x-python",
   "name": "python",
   "nbconvert_exporter": "python",
   "pygments_lexer": "ipython3",
   "version": "3.8.10"
  },
  "vscode": {
   "interpreter": {
    "hash": "b0fa6594d8f4cbf19f97940f81e996739fb7646882a419484c72d19e05852a7e"
   }
  }
 },
 "nbformat": 4,
 "nbformat_minor": 5
}
